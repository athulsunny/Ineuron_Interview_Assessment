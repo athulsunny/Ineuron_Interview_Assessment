{
  "cells": [
    {
      "cell_type": "markdown",
      "metadata": {
        "id": "view-in-github",
        "colab_type": "text"
      },
      "source": [
        "<a href=\"https://colab.research.google.com/github/athulsunny/Ineuron_Interview_Assessment/blob/main/Machine_Learning_Question_3.ipynb\" target=\"_parent\"><img src=\"https://colab.research.google.com/assets/colab-badge.svg\" alt=\"Open In Colab\"/></a>"
      ]
    },
    {
      "cell_type": "markdown",
      "source": [
        "Imagine you have a dataset where you have different categories of data, Now\n",
        "you need to find the most similar data to the given data by using any 4 different\n",
        "similarity algorithms. Now you have to build a model which can find the most similar\n",
        "data to the given data.\n",
        "Dataset This is the Dataset You can use this dataset for this question."
      ],
      "metadata": {
        "id": "eSMT5c1cy72V"
      },
      "id": "eSMT5c1cy72V"
    },
    {
      "cell_type": "code",
      "execution_count": null,
      "id": "3ab00667",
      "metadata": {
        "_cell_guid": "b1076dfc-b9ad-4769-8c92-a6c4dae69d19",
        "_uuid": "8f2839f25d086af736a60e9eeb907d3b93b6e0e5",
        "execution": {
          "iopub.execute_input": "2022-07-30T17:55:45.607722Z",
          "iopub.status.busy": "2022-07-30T17:55:45.607281Z",
          "iopub.status.idle": "2022-07-30T17:55:45.626363Z",
          "shell.execute_reply": "2022-07-30T17:55:45.625407Z"
        },
        "papermill": {
          "duration": 0.028939,
          "end_time": "2022-07-30T17:55:45.628857",
          "exception": false,
          "start_time": "2022-07-30T17:55:45.599918",
          "status": "completed"
        },
        "tags": [],
        "id": "3ab00667"
      },
      "outputs": [],
      "source": [
        "\n",
        "import numpy as np # linear algebra\n",
        "import pandas as pd # data processing, CSV file I/O (e.g. pd.read_csv)\n",
        "import os\n",
        "for dirname, _, filenames in os.walk('/kaggle/input'):\n",
        "    for filename in filenames:\n",
        "        print(os.path.join(dirname, filename))\n"
      ]
    },
    {
      "cell_type": "code",
      "execution_count": null,
      "id": "7e87279e",
      "metadata": {
        "execution": {
          "iopub.execute_input": "2022-07-30T17:55:45.640525Z",
          "iopub.status.busy": "2022-07-30T17:55:45.640090Z",
          "iopub.status.idle": "2022-07-30T17:55:47.243069Z",
          "shell.execute_reply": "2022-07-30T17:55:47.241924Z"
        },
        "papermill": {
          "duration": 1.612343,
          "end_time": "2022-07-30T17:55:47.246134",
          "exception": false,
          "start_time": "2022-07-30T17:55:45.633791",
          "status": "completed"
        },
        "tags": [],
        "id": "7e87279e"
      },
      "outputs": [],
      "source": [
        "import pandas as pd #Dataframe Manipulation library\n",
        "import numpy as np #Data Manipulation library\n",
        "\n",
        "#sklearn modules for Feature Extraction & Modelling\n",
        "from sklearn.feature_extraction.text import CountVectorizer, TfidfTransformer,TfidfVectorizer\n",
        "from sklearn.naive_bayes import MultinomialNB\n",
        "from sklearn.pipeline import Pipeline\n",
        "from sklearn.model_selection import train_test_split\n",
        "from sklearn.metrics import confusion_matrix\n",
        "from sklearn.tree import DecisionTreeClassifier\n",
        "from sklearn.ensemble import RandomForestClassifier\n",
        "from sklearn.metrics.pairwise import cosine_similarity\n",
        "\n",
        "#Libraries for Plotting \n",
        "import matplotlib.pyplot as plt\n",
        "from matplotlib.ticker import FuncFormatter\n",
        "\n",
        "from wordcloud import WordCloud, STOPWORDS, ImageColorGenerator\n",
        "import joblib\n",
        "import os\n",
        "import glob\n"
      ]
    },
    {
      "cell_type": "code",
      "execution_count": null,
      "id": "9093b36e",
      "metadata": {
        "execution": {
          "iopub.execute_input": "2022-07-30T17:55:47.259233Z",
          "iopub.status.busy": "2022-07-30T17:55:47.258037Z",
          "iopub.status.idle": "2022-07-30T17:55:51.826346Z",
          "shell.execute_reply": "2022-07-30T17:55:51.825196Z"
        },
        "papermill": {
          "duration": 4.576945,
          "end_time": "2022-07-30T17:55:51.829054",
          "exception": false,
          "start_time": "2022-07-30T17:55:47.252109",
          "status": "completed"
        },
        "tags": [],
        "id": "9093b36e"
      },
      "outputs": [],
      "source": [
        "df = pd.read_json('News_Category_Dataset_v3.json', lines=True)"
      ]
    },
    {
      "cell_type": "code",
      "execution_count": null,
      "id": "70b74dc6",
      "metadata": {
        "execution": {
          "iopub.execute_input": "2022-07-30T17:55:51.839924Z",
          "iopub.status.busy": "2022-07-30T17:55:51.839527Z",
          "iopub.status.idle": "2022-07-30T17:55:51.860886Z",
          "shell.execute_reply": "2022-07-30T17:55:51.859572Z"
        },
        "papermill": {
          "duration": 0.029712,
          "end_time": "2022-07-30T17:55:51.863381",
          "exception": false,
          "start_time": "2022-07-30T17:55:51.833669",
          "status": "completed"
        },
        "tags": [],
        "colab": {
          "base_uri": "https://localhost:8080/",
          "height": 363
        },
        "id": "70b74dc6",
        "outputId": "f23eeda7-1e69-4df9-baa1-67581e9a5429"
      },
      "outputs": [
        {
          "output_type": "execute_result",
          "data": {
            "text/plain": [
              "                                                link  \\\n",
              "0  https://www.huffpost.com/entry/covid-boosters-...   \n",
              "1  https://www.huffpost.com/entry/american-airlin...   \n",
              "2  https://www.huffpost.com/entry/funniest-tweets...   \n",
              "3  https://www.huffpost.com/entry/funniest-parent...   \n",
              "4  https://www.huffpost.com/entry/amy-cooper-lose...   \n",
              "5  https://www.huffpost.com/entry/belk-worker-fou...   \n",
              "6  https://www.huffpost.com/entry/reporter-gets-a...   \n",
              "7  https://www.huffpost.com/entry/puerto-rico-wat...   \n",
              "8  https://www.huffpost.com/entry/mija-documentar...   \n",
              "9  https://www.huffpost.com/entry/biden-un-russia...   \n",
              "\n",
              "                                            headline        category  \\\n",
              "0  Over 4 Million Americans Roll Up Sleeves For O...       U.S. NEWS   \n",
              "1  American Airlines Flyer Charged, Banned For Li...       U.S. NEWS   \n",
              "2  23 Of The Funniest Tweets About Cats And Dogs ...          COMEDY   \n",
              "3  The Funniest Tweets From Parents This Week (Se...       PARENTING   \n",
              "4  Woman Who Called Cops On Black Bird-Watcher Lo...       U.S. NEWS   \n",
              "5  Cleaner Was Dead In Belk Bathroom For 4 Days B...       U.S. NEWS   \n",
              "6  Reporter Gets Adorable Surprise From Her Boyfr...       U.S. NEWS   \n",
              "7  Puerto Ricans Desperate For Water After Hurric...      WORLD NEWS   \n",
              "8  How A New Documentary Captures The Complexity ...  CULTURE & ARTS   \n",
              "9  Biden At UN To Call Russian War An Affront To ...      WORLD NEWS   \n",
              "\n",
              "                                   short_description               authors  \\\n",
              "0  Health experts said it is too early to predict...  Carla K. Johnson, AP   \n",
              "1  He was subdued by passengers and crew when he ...        Mary Papenfuss   \n",
              "2  \"Until you have a dog you don't understand wha...         Elyse Wanshel   \n",
              "3  \"Accidentally put grown-up toothpaste on my to...      Caroline Bologna   \n",
              "4  Amy Cooper accused investment firm Franklin Te...        Nina Golgowski   \n",
              "5  The 63-year-old woman was seen working at the ...                         \n",
              "6  \"Who's that behind you?\" an anchor for New Yor...         Elyse Wanshel   \n",
              "7  More than half a million people remained witho...       DÁNICA COTO, AP   \n",
              "8  In \"Mija,\" director Isabel Castro combined mus...           Marina Fang   \n",
              "9  White House officials say the crux of the pres...     Aamer Madhani, AP   \n",
              "\n",
              "        date  \n",
              "0 2022-09-23  \n",
              "1 2022-09-23  \n",
              "2 2022-09-23  \n",
              "3 2022-09-23  \n",
              "4 2022-09-22  \n",
              "5 2022-09-22  \n",
              "6 2022-09-22  \n",
              "7 2022-09-22  \n",
              "8 2022-09-22  \n",
              "9 2022-09-21  "
            ],
            "text/html": [
              "\n",
              "  <div id=\"df-6b851b82-ddc0-4589-a87f-05121424acc6\">\n",
              "    <div class=\"colab-df-container\">\n",
              "      <div>\n",
              "<style scoped>\n",
              "    .dataframe tbody tr th:only-of-type {\n",
              "        vertical-align: middle;\n",
              "    }\n",
              "\n",
              "    .dataframe tbody tr th {\n",
              "        vertical-align: top;\n",
              "    }\n",
              "\n",
              "    .dataframe thead th {\n",
              "        text-align: right;\n",
              "    }\n",
              "</style>\n",
              "<table border=\"1\" class=\"dataframe\">\n",
              "  <thead>\n",
              "    <tr style=\"text-align: right;\">\n",
              "      <th></th>\n",
              "      <th>link</th>\n",
              "      <th>headline</th>\n",
              "      <th>category</th>\n",
              "      <th>short_description</th>\n",
              "      <th>authors</th>\n",
              "      <th>date</th>\n",
              "    </tr>\n",
              "  </thead>\n",
              "  <tbody>\n",
              "    <tr>\n",
              "      <th>0</th>\n",
              "      <td>https://www.huffpost.com/entry/covid-boosters-...</td>\n",
              "      <td>Over 4 Million Americans Roll Up Sleeves For O...</td>\n",
              "      <td>U.S. NEWS</td>\n",
              "      <td>Health experts said it is too early to predict...</td>\n",
              "      <td>Carla K. Johnson, AP</td>\n",
              "      <td>2022-09-23</td>\n",
              "    </tr>\n",
              "    <tr>\n",
              "      <th>1</th>\n",
              "      <td>https://www.huffpost.com/entry/american-airlin...</td>\n",
              "      <td>American Airlines Flyer Charged, Banned For Li...</td>\n",
              "      <td>U.S. NEWS</td>\n",
              "      <td>He was subdued by passengers and crew when he ...</td>\n",
              "      <td>Mary Papenfuss</td>\n",
              "      <td>2022-09-23</td>\n",
              "    </tr>\n",
              "    <tr>\n",
              "      <th>2</th>\n",
              "      <td>https://www.huffpost.com/entry/funniest-tweets...</td>\n",
              "      <td>23 Of The Funniest Tweets About Cats And Dogs ...</td>\n",
              "      <td>COMEDY</td>\n",
              "      <td>\"Until you have a dog you don't understand wha...</td>\n",
              "      <td>Elyse Wanshel</td>\n",
              "      <td>2022-09-23</td>\n",
              "    </tr>\n",
              "    <tr>\n",
              "      <th>3</th>\n",
              "      <td>https://www.huffpost.com/entry/funniest-parent...</td>\n",
              "      <td>The Funniest Tweets From Parents This Week (Se...</td>\n",
              "      <td>PARENTING</td>\n",
              "      <td>\"Accidentally put grown-up toothpaste on my to...</td>\n",
              "      <td>Caroline Bologna</td>\n",
              "      <td>2022-09-23</td>\n",
              "    </tr>\n",
              "    <tr>\n",
              "      <th>4</th>\n",
              "      <td>https://www.huffpost.com/entry/amy-cooper-lose...</td>\n",
              "      <td>Woman Who Called Cops On Black Bird-Watcher Lo...</td>\n",
              "      <td>U.S. NEWS</td>\n",
              "      <td>Amy Cooper accused investment firm Franklin Te...</td>\n",
              "      <td>Nina Golgowski</td>\n",
              "      <td>2022-09-22</td>\n",
              "    </tr>\n",
              "    <tr>\n",
              "      <th>5</th>\n",
              "      <td>https://www.huffpost.com/entry/belk-worker-fou...</td>\n",
              "      <td>Cleaner Was Dead In Belk Bathroom For 4 Days B...</td>\n",
              "      <td>U.S. NEWS</td>\n",
              "      <td>The 63-year-old woman was seen working at the ...</td>\n",
              "      <td></td>\n",
              "      <td>2022-09-22</td>\n",
              "    </tr>\n",
              "    <tr>\n",
              "      <th>6</th>\n",
              "      <td>https://www.huffpost.com/entry/reporter-gets-a...</td>\n",
              "      <td>Reporter Gets Adorable Surprise From Her Boyfr...</td>\n",
              "      <td>U.S. NEWS</td>\n",
              "      <td>\"Who's that behind you?\" an anchor for New Yor...</td>\n",
              "      <td>Elyse Wanshel</td>\n",
              "      <td>2022-09-22</td>\n",
              "    </tr>\n",
              "    <tr>\n",
              "      <th>7</th>\n",
              "      <td>https://www.huffpost.com/entry/puerto-rico-wat...</td>\n",
              "      <td>Puerto Ricans Desperate For Water After Hurric...</td>\n",
              "      <td>WORLD NEWS</td>\n",
              "      <td>More than half a million people remained witho...</td>\n",
              "      <td>DÁNICA COTO, AP</td>\n",
              "      <td>2022-09-22</td>\n",
              "    </tr>\n",
              "    <tr>\n",
              "      <th>8</th>\n",
              "      <td>https://www.huffpost.com/entry/mija-documentar...</td>\n",
              "      <td>How A New Documentary Captures The Complexity ...</td>\n",
              "      <td>CULTURE &amp; ARTS</td>\n",
              "      <td>In \"Mija,\" director Isabel Castro combined mus...</td>\n",
              "      <td>Marina Fang</td>\n",
              "      <td>2022-09-22</td>\n",
              "    </tr>\n",
              "    <tr>\n",
              "      <th>9</th>\n",
              "      <td>https://www.huffpost.com/entry/biden-un-russia...</td>\n",
              "      <td>Biden At UN To Call Russian War An Affront To ...</td>\n",
              "      <td>WORLD NEWS</td>\n",
              "      <td>White House officials say the crux of the pres...</td>\n",
              "      <td>Aamer Madhani, AP</td>\n",
              "      <td>2022-09-21</td>\n",
              "    </tr>\n",
              "  </tbody>\n",
              "</table>\n",
              "</div>\n",
              "      <button class=\"colab-df-convert\" onclick=\"convertToInteractive('df-6b851b82-ddc0-4589-a87f-05121424acc6')\"\n",
              "              title=\"Convert this dataframe to an interactive table.\"\n",
              "              style=\"display:none;\">\n",
              "        \n",
              "  <svg xmlns=\"http://www.w3.org/2000/svg\" height=\"24px\"viewBox=\"0 0 24 24\"\n",
              "       width=\"24px\">\n",
              "    <path d=\"M0 0h24v24H0V0z\" fill=\"none\"/>\n",
              "    <path d=\"M18.56 5.44l.94 2.06.94-2.06 2.06-.94-2.06-.94-.94-2.06-.94 2.06-2.06.94zm-11 1L8.5 8.5l.94-2.06 2.06-.94-2.06-.94L8.5 2.5l-.94 2.06-2.06.94zm10 10l.94 2.06.94-2.06 2.06-.94-2.06-.94-.94-2.06-.94 2.06-2.06.94z\"/><path d=\"M17.41 7.96l-1.37-1.37c-.4-.4-.92-.59-1.43-.59-.52 0-1.04.2-1.43.59L10.3 9.45l-7.72 7.72c-.78.78-.78 2.05 0 2.83L4 21.41c.39.39.9.59 1.41.59.51 0 1.02-.2 1.41-.59l7.78-7.78 2.81-2.81c.8-.78.8-2.07 0-2.86zM5.41 20L4 18.59l7.72-7.72 1.47 1.35L5.41 20z\"/>\n",
              "  </svg>\n",
              "      </button>\n",
              "      \n",
              "  <style>\n",
              "    .colab-df-container {\n",
              "      display:flex;\n",
              "      flex-wrap:wrap;\n",
              "      gap: 12px;\n",
              "    }\n",
              "\n",
              "    .colab-df-convert {\n",
              "      background-color: #E8F0FE;\n",
              "      border: none;\n",
              "      border-radius: 50%;\n",
              "      cursor: pointer;\n",
              "      display: none;\n",
              "      fill: #1967D2;\n",
              "      height: 32px;\n",
              "      padding: 0 0 0 0;\n",
              "      width: 32px;\n",
              "    }\n",
              "\n",
              "    .colab-df-convert:hover {\n",
              "      background-color: #E2EBFA;\n",
              "      box-shadow: 0px 1px 2px rgba(60, 64, 67, 0.3), 0px 1px 3px 1px rgba(60, 64, 67, 0.15);\n",
              "      fill: #174EA6;\n",
              "    }\n",
              "\n",
              "    [theme=dark] .colab-df-convert {\n",
              "      background-color: #3B4455;\n",
              "      fill: #D2E3FC;\n",
              "    }\n",
              "\n",
              "    [theme=dark] .colab-df-convert:hover {\n",
              "      background-color: #434B5C;\n",
              "      box-shadow: 0px 1px 3px 1px rgba(0, 0, 0, 0.15);\n",
              "      filter: drop-shadow(0px 1px 2px rgba(0, 0, 0, 0.3));\n",
              "      fill: #FFFFFF;\n",
              "    }\n",
              "  </style>\n",
              "\n",
              "      <script>\n",
              "        const buttonEl =\n",
              "          document.querySelector('#df-6b851b82-ddc0-4589-a87f-05121424acc6 button.colab-df-convert');\n",
              "        buttonEl.style.display =\n",
              "          google.colab.kernel.accessAllowed ? 'block' : 'none';\n",
              "\n",
              "        async function convertToInteractive(key) {\n",
              "          const element = document.querySelector('#df-6b851b82-ddc0-4589-a87f-05121424acc6');\n",
              "          const dataTable =\n",
              "            await google.colab.kernel.invokeFunction('convertToInteractive',\n",
              "                                                     [key], {});\n",
              "          if (!dataTable) return;\n",
              "\n",
              "          const docLinkHtml = 'Like what you see? Visit the ' +\n",
              "            '<a target=\"_blank\" href=https://colab.research.google.com/notebooks/data_table.ipynb>data table notebook</a>'\n",
              "            + ' to learn more about interactive tables.';\n",
              "          element.innerHTML = '';\n",
              "          dataTable['output_type'] = 'display_data';\n",
              "          await google.colab.output.renderOutput(dataTable, element);\n",
              "          const docLink = document.createElement('div');\n",
              "          docLink.innerHTML = docLinkHtml;\n",
              "          element.appendChild(docLink);\n",
              "        }\n",
              "      </script>\n",
              "    </div>\n",
              "  </div>\n",
              "  "
            ]
          },
          "metadata": {},
          "execution_count": 10
        }
      ],
      "source": [
        "df.head(10)"
      ]
    },
    {
      "cell_type": "code",
      "execution_count": null,
      "id": "a2eef776",
      "metadata": {
        "execution": {
          "iopub.execute_input": "2022-07-30T17:55:51.875211Z",
          "iopub.status.busy": "2022-07-30T17:55:51.874800Z",
          "iopub.status.idle": "2022-07-30T17:55:51.882296Z",
          "shell.execute_reply": "2022-07-30T17:55:51.881033Z"
        },
        "papermill": {
          "duration": 0.016215,
          "end_time": "2022-07-30T17:55:51.884614",
          "exception": false,
          "start_time": "2022-07-30T17:55:51.868399",
          "status": "completed"
        },
        "tags": [],
        "colab": {
          "base_uri": "https://localhost:8080/"
        },
        "id": "a2eef776",
        "outputId": "35c25ff5-96f1-4bfc-c12c-efe2472eefe4"
      },
      "outputs": [
        {
          "output_type": "execute_result",
          "data": {
            "text/plain": [
              "(209527, 6)"
            ]
          },
          "metadata": {},
          "execution_count": 11
        }
      ],
      "source": [
        "df.shape"
      ]
    },
    {
      "cell_type": "code",
      "execution_count": null,
      "id": "354fefce",
      "metadata": {
        "execution": {
          "iopub.execute_input": "2022-07-30T17:55:51.896978Z",
          "iopub.status.busy": "2022-07-30T17:55:51.896545Z",
          "iopub.status.idle": "2022-07-30T17:55:51.904028Z",
          "shell.execute_reply": "2022-07-30T17:55:51.902956Z"
        },
        "papermill": {
          "duration": 0.016801,
          "end_time": "2022-07-30T17:55:51.906559",
          "exception": false,
          "start_time": "2022-07-30T17:55:51.889758",
          "status": "completed"
        },
        "tags": [],
        "colab": {
          "base_uri": "https://localhost:8080/"
        },
        "id": "354fefce",
        "outputId": "0816d7ec-616d-481d-f38b-38bbd8c709a0"
      },
      "outputs": [
        {
          "output_type": "execute_result",
          "data": {
            "text/plain": [
              "Index(['link', 'headline', 'category', 'short_description', 'authors', 'date'], dtype='object')"
            ]
          },
          "metadata": {},
          "execution_count": 12
        }
      ],
      "source": [
        "df.columns"
      ]
    },
    {
      "cell_type": "code",
      "execution_count": null,
      "id": "19c47d27",
      "metadata": {
        "execution": {
          "iopub.execute_input": "2022-07-30T17:55:51.920159Z",
          "iopub.status.busy": "2022-07-30T17:55:51.918953Z",
          "iopub.status.idle": "2022-07-30T17:55:52.017397Z",
          "shell.execute_reply": "2022-07-30T17:55:52.016156Z"
        },
        "papermill": {
          "duration": 0.109573,
          "end_time": "2022-07-30T17:55:52.021554",
          "exception": false,
          "start_time": "2022-07-30T17:55:51.911981",
          "status": "completed"
        },
        "tags": [],
        "colab": {
          "base_uri": "https://localhost:8080/"
        },
        "id": "19c47d27",
        "outputId": "37fdbaad-39d0-42b4-de84-b38f8ca73ca2"
      },
      "outputs": [
        {
          "output_type": "stream",
          "name": "stdout",
          "text": [
            " Number of categories in News details contains \u001b[1m 42 \u001b[0m\n",
            " Categorise are ------------\u001b[1m ['U.S. NEWS' 'COMEDY' 'PARENTING' 'WORLD NEWS' 'CULTURE & ARTS' 'TECH'\n",
            " 'SPORTS' 'ENTERTAINMENT' 'POLITICS' 'WEIRD NEWS' 'ENVIRONMENT'\n",
            " 'EDUCATION' 'CRIME' 'SCIENCE' 'WELLNESS' 'BUSINESS' 'STYLE & BEAUTY'\n",
            " 'FOOD & DRINK' 'MEDIA' 'QUEER VOICES' 'HOME & LIVING' 'WOMEN'\n",
            " 'BLACK VOICES' 'TRAVEL' 'MONEY' 'RELIGION' 'LATINO VOICES' 'IMPACT'\n",
            " 'WEDDINGS' 'COLLEGE' 'PARENTS' 'ARTS & CULTURE' 'STYLE' 'GREEN' 'TASTE'\n",
            " 'HEALTHY LIVING' 'THE WORLDPOST' 'GOOD NEWS' 'WORLDPOST' 'FIFTY' 'ARTS'\n",
            " 'DIVORCE'] \u001b[0m\n"
          ]
        }
      ],
      "source": [
        "print(f\" Number of categories in News details contains \\033[1m {df['category'].nunique()} \\033[0m\")\n",
        "\n",
        "print(f\" Categorise are ------------\\033[1m {df['category'].unique()} \\033[0m\")"
      ]
    },
    {
      "cell_type": "code",
      "execution_count": null,
      "id": "eb42f0d7",
      "metadata": {
        "execution": {
          "iopub.execute_input": "2022-07-30T17:55:52.036831Z",
          "iopub.status.busy": "2022-07-30T17:55:52.034494Z",
          "iopub.status.idle": "2022-07-30T17:55:52.089866Z",
          "shell.execute_reply": "2022-07-30T17:55:52.088597Z"
        },
        "papermill": {
          "duration": 0.06482,
          "end_time": "2022-07-30T17:55:52.092346",
          "exception": false,
          "start_time": "2022-07-30T17:55:52.027526",
          "status": "completed"
        },
        "tags": [],
        "colab": {
          "base_uri": "https://localhost:8080/"
        },
        "id": "eb42f0d7",
        "outputId": "db34d36c-37a0-4cc9-c2ae-1f8fc409483c"
      },
      "outputs": [
        {
          "output_type": "execute_result",
          "data": {
            "text/plain": [
              "POLITICS          35602\n",
              "WELLNESS          17945\n",
              "ENTERTAINMENT     17362\n",
              "TRAVEL             9900\n",
              "STYLE & BEAUTY     9814\n",
              "PARENTING          8791\n",
              "HEALTHY LIVING     6694\n",
              "QUEER VOICES       6347\n",
              "FOOD & DRINK       6340\n",
              "BUSINESS           5992\n",
              "COMEDY             5400\n",
              "SPORTS             5077\n",
              "BLACK VOICES       4583\n",
              "HOME & LIVING      4320\n",
              "PARENTS            3955\n",
              "THE WORLDPOST      3664\n",
              "WEDDINGS           3653\n",
              "WOMEN              3572\n",
              "CRIME              3562\n",
              "IMPACT             3484\n",
              "DIVORCE            3426\n",
              "WORLD NEWS         3299\n",
              "MEDIA              2944\n",
              "WEIRD NEWS         2777\n",
              "GREEN              2622\n",
              "WORLDPOST          2579\n",
              "RELIGION           2577\n",
              "STYLE              2254\n",
              "SCIENCE            2206\n",
              "TECH               2104\n",
              "TASTE              2096\n",
              "MONEY              1756\n",
              "ARTS               1509\n",
              "ENVIRONMENT        1444\n",
              "FIFTY              1401\n",
              "GOOD NEWS          1398\n",
              "U.S. NEWS          1377\n",
              "ARTS & CULTURE     1339\n",
              "COLLEGE            1144\n",
              "LATINO VOICES      1130\n",
              "CULTURE & ARTS     1074\n",
              "EDUCATION          1014\n",
              "Name: category, dtype: int64"
            ]
          },
          "metadata": {},
          "execution_count": 14
        }
      ],
      "source": [
        "df['category'].value_counts()"
      ]
    },
    {
      "cell_type": "code",
      "execution_count": null,
      "id": "764d4208",
      "metadata": {
        "execution": {
          "iopub.execute_input": "2022-07-30T17:55:52.105089Z",
          "iopub.status.busy": "2022-07-30T17:55:52.104657Z",
          "iopub.status.idle": "2022-07-30T17:55:52.113389Z",
          "shell.execute_reply": "2022-07-30T17:55:52.112140Z"
        },
        "papermill": {
          "duration": 0.017976,
          "end_time": "2022-07-30T17:55:52.115859",
          "exception": false,
          "start_time": "2022-07-30T17:55:52.097883",
          "status": "completed"
        },
        "tags": [],
        "id": "764d4208"
      },
      "outputs": [],
      "source": [
        "def retrieve_doc(new_query,raw_docs,colname=None):\n",
        "    vectorizer = TfidfVectorizer(stop_words = \"english\")\n",
        "    vectors = vectorizer.fit_transform(raw_docs[colname])\n",
        "    print(\"Shape of tfidf matrix: {}\".format(vectors.shape))\n",
        "    new_query = [new_query]\n",
        "    new_query_vector = vectorizer.transform(new_query)\n",
        "    sim = cosine_similarity(X = vectors, Y = new_query_vector)\n",
        "    ind = np.argsort(sim,axis = 0)[::-1][:10]\n",
        "    for i in ind:\n",
        "        print(i) # index number\n",
        "        print(raw_docs[colname].tolist()[i[0]])"
      ]
    },
    {
      "cell_type": "code",
      "execution_count": null,
      "id": "20959dd7",
      "metadata": {
        "execution": {
          "iopub.execute_input": "2022-07-30T17:55:52.128684Z",
          "iopub.status.busy": "2022-07-30T17:55:52.128305Z",
          "iopub.status.idle": "2022-07-30T17:55:52.133237Z",
          "shell.execute_reply": "2022-07-30T17:55:52.132048Z"
        },
        "papermill": {
          "duration": 0.014171,
          "end_time": "2022-07-30T17:55:52.135480",
          "exception": false,
          "start_time": "2022-07-30T17:55:52.121309",
          "status": "completed"
        },
        "tags": [],
        "id": "20959dd7"
      },
      "outputs": [],
      "source": [
        "# newQuery = \"gaming week in UK\"\n",
        "newQuery = \"Of course it has a song\""
      ]
    },
    {
      "cell_type": "code",
      "execution_count": null,
      "id": "38584aa7",
      "metadata": {
        "execution": {
          "iopub.execute_input": "2022-07-30T17:55:52.148039Z",
          "iopub.status.busy": "2022-07-30T17:55:52.147638Z",
          "iopub.status.idle": "2022-07-30T17:55:57.797682Z",
          "shell.execute_reply": "2022-07-30T17:55:57.796377Z"
        },
        "papermill": {
          "duration": 5.660901,
          "end_time": "2022-07-30T17:55:57.801738",
          "exception": false,
          "start_time": "2022-07-30T17:55:52.140837",
          "status": "completed"
        },
        "tags": [],
        "colab": {
          "base_uri": "https://localhost:8080/"
        },
        "id": "38584aa7",
        "outputId": "e210aebc-bcac-4dcc-bc3b-3f06d9048f4d"
      },
      "outputs": [
        {
          "output_type": "stream",
          "name": "stdout",
          "text": [
            "Shape of tfidf matrix: (209527, 75420)\n",
            "[8675]\n",
            "Of course it has a song.\n",
            "[79074]\n",
            "So much for the last song.\n",
            "[45399]\n",
            "Of course.\n",
            "[11443]\n",
            "\"Of course they do.\"\n",
            "[39385]\n",
            "Of course.\n",
            "[37255]\n",
            "Because, of course.\n",
            "[81891]\n",
            "Because of course.\n",
            "[22514]\n",
            "Because of course.\n",
            "[74865]\n",
            "Of course it is.\n",
            "[56191]\n",
            "Of course.\n"
          ]
        }
      ],
      "source": [
        "retrieve_doc(new_query= newQuery , raw_docs=df, colname='short_description')"
      ]
    },
    {
      "cell_type": "code",
      "execution_count": null,
      "id": "282b96ee",
      "metadata": {
        "execution": {
          "iopub.execute_input": "2022-07-30T17:55:57.815393Z",
          "iopub.status.busy": "2022-07-30T17:55:57.814773Z",
          "iopub.status.idle": "2022-07-30T17:55:57.818742Z",
          "shell.execute_reply": "2022-07-30T17:55:57.817919Z"
        },
        "papermill": {
          "duration": 0.013216,
          "end_time": "2022-07-30T17:55:57.820858",
          "exception": false,
          "start_time": "2022-07-30T17:55:57.807642",
          "status": "completed"
        },
        "tags": [],
        "id": "282b96ee"
      },
      "outputs": [],
      "source": [
        "newQuery1 = \"What To Watch On Hulu That’s New This Week\""
      ]
    },
    {
      "cell_type": "code",
      "execution_count": null,
      "id": "267313d3",
      "metadata": {
        "execution": {
          "iopub.execute_input": "2022-07-30T17:55:57.834030Z",
          "iopub.status.busy": "2022-07-30T17:55:57.833615Z",
          "iopub.status.idle": "2022-07-30T17:56:01.348648Z",
          "shell.execute_reply": "2022-07-30T17:56:01.347024Z"
        },
        "papermill": {
          "duration": 3.52484,
          "end_time": "2022-07-30T17:56:01.351276",
          "exception": false,
          "start_time": "2022-07-30T17:55:57.826436",
          "status": "completed"
        },
        "tags": [],
        "colab": {
          "base_uri": "https://localhost:8080/"
        },
        "id": "267313d3",
        "outputId": "337249e1-67b6-4fe9-a5cf-9ac776dd3437"
      },
      "outputs": [
        {
          "output_type": "stream",
          "name": "stdout",
          "text": [
            "Shape of tfidf matrix: (209527, 56447)\n",
            "[8607]\n",
            "What To Watch On Hulu That’s New This Week\n",
            "[8240]\n",
            "What To Watch On Hulu That’s New This Week\n",
            "[8334]\n",
            "What To Watch On Hulu That’s New This Week\n",
            "[8544]\n",
            "What To Watch On Hulu That’s New This Week\n",
            "[9756]\n",
            "What To Watch On Hulu That’s New This Week\n",
            "[8642]\n",
            "What To Watch On Hulu That’s New This Week\n",
            "[8579]\n",
            "What To Watch On Hulu That’s New This Week\n",
            "[10192]\n",
            "What To Watch On Hulu That’s New This Week\n",
            "[9372]\n",
            "What To Watch On Hulu That’s New This Week\n",
            "[8270]\n",
            "What To Watch On Hulu That’s New This Week\n"
          ]
        }
      ],
      "source": [
        "retrieve_doc(new_query= newQuery1 , raw_docs=df, colname='headline')"
      ]
    }
  ],
  "metadata": {
    "kernelspec": {
      "display_name": "Python 3",
      "language": "python",
      "name": "python3"
    },
    "language_info": {
      "codemirror_mode": {
        "name": "ipython",
        "version": 3
      },
      "file_extension": ".py",
      "mimetype": "text/x-python",
      "name": "python",
      "nbconvert_exporter": "python",
      "pygments_lexer": "ipython3",
      "version": "3.7.12"
    },
    "papermill": {
      "default_parameters": {},
      "duration": 27.263798,
      "end_time": "2022-07-30T17:56:02.179847",
      "environment_variables": {},
      "exception": null,
      "input_path": "__notebook__.ipynb",
      "output_path": "__notebook__.ipynb",
      "parameters": {},
      "start_time": "2022-07-30T17:55:34.916049",
      "version": "2.3.4"
    },
    "colab": {
      "provenance": [],
      "include_colab_link": true
    }
  },
  "nbformat": 4,
  "nbformat_minor": 5
}