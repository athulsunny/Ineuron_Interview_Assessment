{
  "nbformat": 4,
  "nbformat_minor": 0,
  "metadata": {
    "colab": {
      "provenance": [],
      "authorship_tag": "ABX9TyNb3ImqkNFAPBAOQzImFXDB",
      "include_colab_link": true
    },
    "kernelspec": {
      "name": "python3",
      "display_name": "Python 3"
    },
    "language_info": {
      "name": "python"
    }
  },
  "cells": [
    {
      "cell_type": "markdown",
      "metadata": {
        "id": "view-in-github",
        "colab_type": "text"
      },
      "source": [
        "<a href=\"https://colab.research.google.com/github/athulsunny/Placement-Assignment_Athul.Sunny/blob/main/Python_Question_4.ipynb\" target=\"_parent\"><img src=\"https://colab.research.google.com/assets/colab-badge.svg\" alt=\"Open In Colab\"/></a>"
      ]
    },
    {
      "cell_type": "code",
      "execution_count": 1,
      "metadata": {
        "colab": {
          "base_uri": "https://localhost:8080/"
        },
        "id": "Ca0wSOWw7-A4",
        "outputId": "be6d673f-28ba-41c2-ea08-ae55e79d03e4"
      },
      "outputs": [
        {
          "output_type": "stream",
          "name": "stdout",
          "text": [
            "Data has been downloaded, processed, and saved in meteorite_data.csv\n"
          ]
        }
      ],
      "source": [
        "import requests\n",
        "import pandas as pd\n",
        "\n",
        "def download_data(url):\n",
        "    response = requests.get(url)\n",
        "    data = response.json()\n",
        "    return data\n",
        "\n",
        "def process_data(data):\n",
        "    processed_data = []\n",
        "    for meteorite in data:\n",
        "        entry = {\n",
        "            'Name of Earth Meteorite': meteorite.get('name', ''),\n",
        "            'ID of Earth Meteorite': meteorite.get('id', ''),\n",
        "            'Name Type': meteorite.get('nametype', ''),\n",
        "            'Recclass': meteorite.get('recclass', ''),\n",
        "            'Mass (g)': meteorite.get('mass', ''),\n",
        "            'Year': meteorite.get('year', ''),\n",
        "            'Latitude': meteorite.get('reclat', ''),\n",
        "            'Longitude': meteorite.get('reclong', ''),\n",
        "            'Coordinates': [meteorite.get('reclat', ''), meteorite.get('reclong', '')]\n",
        "        }\n",
        "        processed_data.append(entry)\n",
        "    return processed_data\n",
        "\n",
        "def save_as_csv(data, filename):\n",
        "    df = pd.DataFrame(data)\n",
        "    df.to_csv(filename, index=False)\n",
        "\n",
        "# Download the data from the provided link\n",
        "url = \"https://data.nasa.gov/resource/y77d-th95.json\"\n",
        "meteorite_data = download_data(url)\n",
        "\n",
        "# Process the data\n",
        "processed_data = process_data(meteorite_data)\n",
        "\n",
        "# Save the data as a CSV file\n",
        "csv_filename = \"meteorite_data.csv\"\n",
        "save_as_csv(processed_data, csv_filename)\n",
        "\n",
        "print(\"Data has been downloaded, processed, and saved in\", csv_filename)"
      ]
    }
  ]
}