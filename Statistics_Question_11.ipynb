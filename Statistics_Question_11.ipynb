{
  "nbformat": 4,
  "nbformat_minor": 0,
  "metadata": {
    "colab": {
      "provenance": [],
      "authorship_tag": "ABX9TyNLHni+bVus1uqWYOkqm+zz",
      "include_colab_link": true
    },
    "kernelspec": {
      "name": "python3",
      "display_name": "Python 3"
    },
    "language_info": {
      "name": "python"
    }
  },
  "cells": [
    {
      "cell_type": "markdown",
      "metadata": {
        "id": "view-in-github",
        "colab_type": "text"
      },
      "source": [
        "<a href=\"https://colab.research.google.com/github/athulsunny/Placement-Assignment_Athul.Sunny/blob/main/Statistics_Question_11.ipynb\" target=\"_parent\"><img src=\"https://colab.research.google.com/assets/colab-badge.svg\" alt=\"Open In Colab\"/></a>"
      ]
    },
    {
      "cell_type": "code",
      "execution_count": 1,
      "metadata": {
        "colab": {
          "base_uri": "https://localhost:8080/"
        },
        "id": "vT5RuFGXDGX9",
        "outputId": "d134d258-3bec-44c5-ad17-b9b8e28955e8"
      },
      "outputs": [
        {
          "output_type": "stream",
          "name": "stdout",
          "text": [
            "a. Analysis of Variance (ANOVA):\n",
            "F-Statistic: nan\n",
            "p-value: nan\n",
            "The distributions of all classes are not the same.\n",
            "\n",
            "b. Levene's Test:\n",
            "Statistic: nan\n",
            "p-value: nan\n",
            "The variances are not equal across all classes.\n",
            "\n",
            "d. Mean Comparison:\n",
            "Class A mean: nan\n",
            "Class B mean: nan\n",
            "Class C mean: nan\n",
            "The means of all classes are not equal.\n"
          ]
        },
        {
          "output_type": "stream",
          "name": "stderr",
          "text": [
            "/usr/local/lib/python3.10/dist-packages/scipy/stats/_stats_py.py:3861: DegenerateDataWarning: at least one input has length 0\n",
            "  warnings.warn(stats.DegenerateDataWarning('at least one input '\n",
            "/usr/local/lib/python3.10/dist-packages/numpy/core/fromnumeric.py:3474: RuntimeWarning: Mean of empty slice.\n",
            "  return _methods._mean(a, axis=axis, dtype=dtype,\n",
            "/usr/local/lib/python3.10/dist-packages/numpy/core/_methods.py:189: RuntimeWarning: invalid value encountered in double_scalars\n",
            "  ret = ret.dtype.type(ret / rcount)\n"
          ]
        }
      ],
      "source": [
        "import pandas as pd\n",
        "import scipy.stats as stats\n",
        "\n",
        "# Load the dataset from Google Sheets\n",
        "url = 'https://docs.google.com/spreadsheets/d/1iLSc68B95hOgIjCANOD5ZoSJoX3KDXSJ3SEaFEuLf-M/export?format=csv'\n",
        "data = pd.read_csv(url)\n",
        "\n",
        "# Extract the feature column and class column\n",
        "feature = data['Blood Pressure Before (mmHg)']\n",
        "classes = data['Blood Pressure After (mmHg)']\n",
        "\n",
        "# a. Check if the distributions of all classes are the same\n",
        "f_statistic, p_value = stats.f_oneway(feature[classes == 'Class A'],\n",
        "                                     feature[classes == 'Class B'],\n",
        "                                     feature[classes == 'Class C'])\n",
        "\n",
        "# Print the results\n",
        "print(f\"a. Analysis of Variance (ANOVA):\\nF-Statistic: {f_statistic}\\np-value: {p_value}\")\n",
        "if p_value > 0.05:\n",
        "    print(\"The distributions of all classes are the same.\")\n",
        "else:\n",
        "    print(\"The distributions of all classes are not the same.\")\n",
        "\n",
        "# b. Check for equality of variance\n",
        "levene_statistic, levene_p_value = stats.levene(feature[classes == 'Class A'],\n",
        "                                               feature[classes == 'Class B'],\n",
        "                                               feature[classes == 'Class C'])\n",
        "\n",
        "# Print the results\n",
        "print(f\"\\nb. Levene's Test:\\nStatistic: {levene_statistic}\\np-value: {levene_p_value}\")\n",
        "if levene_p_value > 0.05:\n",
        "    print(\"The variances are equal across all classes.\")\n",
        "else:\n",
        "    print(\"The variances are not equal across all classes.\")\n",
        "\n",
        "# c. Compare LDA and QDA performance\n",
        "# ... perform LDA and QDA classification on the data and evaluate their performance ...\n",
        "# ... the choice of LDA or QDA depends on the specific characteristics of the data and assumptions made in each method ...\n",
        "\n",
        "# d. Check the equality of mean between all classes\n",
        "class_a_mean = feature[classes == 'Class A'].mean()\n",
        "class_b_mean = feature[classes == 'Class B'].mean()\n",
        "class_c_mean = feature[classes == 'Class C'].mean()\n",
        "\n",
        "# Print the results\n",
        "print(f\"\\nd. Mean Comparison:\\nClass A mean: {class_a_mean}\\nClass B mean: {class_b_mean}\\nClass C mean: {class_c_mean}\")\n",
        "if class_a_mean == class_b_mean == class_c_mean:\n",
        "    print(\"The means of all classes are equal.\")\n",
        "else:\n",
        "    print(\"The means of all classes are not equal.\")"
      ]
    }
  ]
}