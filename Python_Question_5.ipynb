{
  "nbformat": 4,
  "nbformat_minor": 0,
  "metadata": {
    "colab": {
      "provenance": [],
      "authorship_tag": "ABX9TyOL4kuQTaUNjZUM3pcQGK6w",
      "include_colab_link": true
    },
    "kernelspec": {
      "name": "python3",
      "display_name": "Python 3"
    },
    "language_info": {
      "name": "python"
    }
  },
  "cells": [
    {
      "cell_type": "markdown",
      "metadata": {
        "id": "view-in-github",
        "colab_type": "text"
      },
      "source": [
        "<a href=\"https://colab.research.google.com/github/athulsunny/Placement-Assignment_Athul.Sunny/blob/main/Python_Question_5.ipynb\" target=\"_parent\"><img src=\"https://colab.research.google.com/assets/colab-badge.svg\" alt=\"Open In Colab\"/></a>"
      ]
    },
    {
      "cell_type": "code",
      "execution_count": 1,
      "metadata": {
        "colab": {
          "base_uri": "https://localhost:8080/"
        },
        "id": "ZzY0tZ7Y8TXM",
        "outputId": "2a0e0739-8d32-4438-aef1-b2e18f6f32f6"
      },
      "outputs": [
        {
          "output_type": "stream",
          "name": "stdout",
          "text": [
            "{'ID': 1371, 'URL': 'https://www.tvmaze.com/shows/1371/westworld', 'Name': 'Westworld', 'Season': 1, 'Number': 1, 'Type': 'regular', 'Air Date': '2016-10-02', 'Air Time': '21:00', 'Runtime (mins)': 68, 'Average Rating': 8, 'Summary': \"A woman named Dolores is a free spirit in the Old West... and unaware that she's actually an android, programmed to entertain rich guests seeking to act out their fantasies in an idealized vision of the 1880s. However, the people in charge soon realize that their androids are acting in ways that they didn't anticipate.\", 'Medium Image': 'https://static.tvmaze.com/uploads/images/medium_landscape/78/195475.jpg', 'Original Image': 'https://static.tvmaze.com/uploads/images/original_untouched/78/195475.jpg'}\n",
            "{'ID': 1371, 'URL': 'https://www.tvmaze.com/shows/1371/westworld', 'Name': 'Westworld', 'Season': 1, 'Number': 2, 'Type': 'regular', 'Air Date': '2016-10-09', 'Air Time': '21:00', 'Runtime (mins)': 60, 'Average Rating': 7.7, 'Summary': 'Bernard suspects that someone is sabotaging the hosts. Meanwhile, the Man continues his search for the deeper game, and Maeve finds herself in a world of hurt... literally.', 'Medium Image': 'https://static.tvmaze.com/uploads/images/medium_landscape/78/195436.jpg', 'Original Image': 'https://static.tvmaze.com/uploads/images/original_untouched/78/195436.jpg'}\n",
            "{'ID': 1371, 'URL': 'https://www.tvmaze.com/shows/1371/westworld', 'Name': 'Westworld', 'Season': 1, 'Number': 3, 'Type': 'regular', 'Air Date': '2016-10-16', 'Air Time': '21:00', 'Runtime (mins)': 60, 'Average Rating': 7.6, 'Summary': \"Bernard continues to investigate Dolores' supposed malfunction, and realizes that he has something unexpected on his hands. Meanwhile, Robert talks about the early days of the park, and Teddy receives a new role and narrative.\", 'Medium Image': 'https://static.tvmaze.com/uploads/images/medium_landscape/79/198183.jpg', 'Original Image': 'https://static.tvmaze.com/uploads/images/original_untouched/79/198183.jpg'}\n",
            "{'ID': 1371, 'URL': 'https://www.tvmaze.com/shows/1371/westworld', 'Name': 'Westworld', 'Season': 1, 'Number': 4, 'Type': 'regular', 'Air Date': '2016-10-23', 'Air Time': '21:00', 'Runtime (mins)': 60, 'Average Rating': 7.9, 'Summary': 'While Dolores joins William and Logan on their adventure, the Man in Black continues his search for the entrance to the Maze and meets Armistice. Meanwhile, Robert reveals some of his true power to Theresa and advises her to stay out of his way.', 'Medium Image': 'https://static.tvmaze.com/uploads/images/medium_landscape/80/201367.jpg', 'Original Image': 'https://static.tvmaze.com/uploads/images/original_untouched/80/201367.jpg'}\n",
            "{'ID': 1371, 'URL': 'https://www.tvmaze.com/shows/1371/westworld', 'Name': 'Westworld', 'Season': 1, 'Number': 5, 'Type': 'regular', 'Air Date': '2016-10-30', 'Air Time': '21:00', 'Runtime (mins)': 60, 'Average Rating': 8, 'Summary': \"Dolores takes the first step on her path of discovery by deciding to write a new story for herself... where she isn't the damsel. Meanwhile, Elise discovers the Woodcutter's secret, and Robert pays the Man a visit.\", 'Medium Image': 'https://static.tvmaze.com/uploads/images/medium_landscape/81/204265.jpg', 'Original Image': 'https://static.tvmaze.com/uploads/images/original_untouched/81/204265.jpg'}\n",
            "{'ID': 1371, 'URL': 'https://www.tvmaze.com/shows/1371/westworld', 'Name': 'Westworld', 'Season': 1, 'Number': 6, 'Type': 'regular', 'Air Date': '2016-11-06', 'Air Time': '21:00', 'Runtime (mins)': 60, 'Average Rating': 8, 'Summary': 'While Maeve convinces Felix to show her \"upstairs,\" Teddy and the Man close in on the maze. Meanwhile, Bernard and Elsie close in on the identity of the person who is stealing secrets from the park, while Lee meets with a Delos executive director.', 'Medium Image': 'https://static.tvmaze.com/uploads/images/medium_landscape/82/207324.jpg', 'Original Image': 'https://static.tvmaze.com/uploads/images/original_untouched/82/207324.jpg'}\n",
            "{'ID': 1371, 'URL': 'https://www.tvmaze.com/shows/1371/westworld', 'Name': 'Westworld', 'Season': 1, 'Number': 7, 'Type': 'regular', 'Air Date': '2016-11-13', 'Air Time': '21:00', 'Runtime (mins)': 60, 'Average Rating': 8.6, 'Summary': 'While William and Dolores travel to the unclaimed territories, Charlotte and Theresa make plans to force Robert out of the park using Clementine. Meanwhile, Maeve continues her plans to escape Westworld.', 'Medium Image': 'https://static.tvmaze.com/uploads/images/medium_landscape/83/209400.jpg', 'Original Image': 'https://static.tvmaze.com/uploads/images/original_untouched/83/209400.jpg'}\n",
            "{'ID': 1371, 'URL': 'https://www.tvmaze.com/shows/1371/westworld', 'Name': 'Westworld', 'Season': 1, 'Number': 8, 'Type': 'regular', 'Air Date': '2016-11-20', 'Air Time': '21:00', 'Runtime (mins)': 60, 'Average Rating': 7.9, 'Summary': \"Bernard tries to cope with what he did under Robert's orders. Meanwhile, William and Dolores find a town, and Maeve remembers more of her past. Meanwhile, the Man reveals his past to Teddy.\", 'Medium Image': 'https://static.tvmaze.com/uploads/images/medium_landscape/84/211554.jpg', 'Original Image': 'https://static.tvmaze.com/uploads/images/original_untouched/84/211554.jpg'}\n",
            "{'ID': 1371, 'URL': 'https://www.tvmaze.com/shows/1371/westworld', 'Name': 'Westworld', 'Season': 1, 'Number': 9, 'Type': 'regular', 'Air Date': '2016-11-27', 'Air Time': '21:00', 'Runtime (mins)': 60, 'Average Rating': 8.5, 'Summary': 'Bernard forces Robert to take him back into his own memories, while the Man meets with Charlotte. Meanwhile, Dolores escapes the Confederado camp and William gives Logan new orders.', 'Medium Image': 'https://static.tvmaze.com/uploads/images/medium_landscape/85/213932.jpg', 'Original Image': 'https://static.tvmaze.com/uploads/images/original_untouched/85/213932.jpg'}\n",
            "{'ID': 1371, 'URL': 'https://www.tvmaze.com/shows/1371/westworld', 'Name': 'Westworld', 'Season': 1, 'Number': 10, 'Type': 'regular', 'Air Date': '2016-12-04', 'Air Time': '21:00', 'Runtime (mins)': 90, 'Average Rating': 8.7, 'Summary': \"Delores finds out the truth about William's fate. Meanwhile, Maeve organizes an escape plan, only to discover that someone else is pulling the strings. And Robert plays the final piece in his grand narrative.\", 'Medium Image': 'https://static.tvmaze.com/uploads/images/medium_landscape/86/216453.jpg', 'Original Image': 'https://static.tvmaze.com/uploads/images/original_untouched/86/216453.jpg'}\n",
            "{'ID': 1371, 'URL': 'https://www.tvmaze.com/shows/1371/westworld', 'Name': 'Westworld', 'Season': 2, 'Number': 1, 'Type': 'regular', 'Air Date': '2018-04-22', 'Air Time': '21:00', 'Runtime (mins)': 74, 'Average Rating': 7.8, 'Summary': 'In the aftermath of the host rebellion, the rescue team finds Bernard and the new Head of Operations asks for his help. Meanwhile, Delores promises to show Teddy the truth, and Maeve convinces Lee and Hector to help her find her daughter.', 'Medium Image': 'https://static.tvmaze.com/uploads/images/medium_landscape/152/381118.jpg', 'Original Image': 'https://static.tvmaze.com/uploads/images/original_untouched/152/381118.jpg'}\n",
            "{'ID': 1371, 'URL': 'https://www.tvmaze.com/shows/1371/westworld', 'Name': 'Westworld', 'Season': 2, 'Number': 2, 'Type': 'regular', 'Air Date': '2018-04-29', 'Air Time': '21:00', 'Runtime (mins)': 60, 'Average Rating': 7.7, 'Summary': 'Dolores looks for allies sympathetic to her cause and shows Teddy the truth of his existence. In the past, Dolores gets her first taste of the outside world and William shows her a weapon of mass destruction.', 'Medium Image': 'https://static.tvmaze.com/uploads/images/medium_landscape/153/382957.jpg', 'Original Image': 'https://static.tvmaze.com/uploads/images/original_untouched/153/382957.jpg'}\n",
            "{'ID': 1371, 'URL': 'https://www.tvmaze.com/shows/1371/westworld', 'Name': 'Westworld', 'Season': 2, 'Number': 3, 'Type': 'regular', 'Air Date': '2018-05-06', 'Air Time': '21:00', 'Runtime (mins)': 60, 'Average Rating': 7.7, 'Summary': 'While Delores makes a deal with the Confederados, Maeve and her group find Felix and Sylvester. Meanwhile, a new Guest comes to Westworld, and Bernard has a meeting of minds with Peter.', 'Medium Image': 'https://static.tvmaze.com/uploads/images/medium_landscape/154/386069.jpg', 'Original Image': 'https://static.tvmaze.com/uploads/images/original_untouched/154/386069.jpg'}\n",
            "{'ID': 1371, 'URL': 'https://www.tvmaze.com/shows/1371/westworld', 'Name': 'Westworld', 'Season': 2, 'Number': 4, 'Type': 'regular', 'Air Date': '2018-05-13', 'Air Time': '21:00', 'Runtime (mins)': 71, 'Average Rating': 8, 'Summary': \"William pays his recuperating father-in-law several visits. Meanwhile, the Man continues to play Robert's game, and Bernard remembers some of his missing time.\", 'Medium Image': 'https://static.tvmaze.com/uploads/images/medium_landscape/155/387630.jpg', 'Original Image': 'https://static.tvmaze.com/uploads/images/original_untouched/155/387630.jpg'}\n",
            "{'ID': 1371, 'URL': 'https://www.tvmaze.com/shows/1371/westworld', 'Name': 'Westworld', 'Season': 2, 'Number': 5, 'Type': 'regular', 'Air Date': '2018-05-20', 'Air Time': '21:00', 'Runtime (mins)': 60, 'Average Rating': 7.6, 'Summary': \"While Maeve and her people explore Shogun World, Delores realizes that the Teddy she knows can't be a part of the new world coming.\", 'Medium Image': 'https://static.tvmaze.com/uploads/images/medium_landscape/155/389365.jpg', 'Original Image': 'https://static.tvmaze.com/uploads/images/original_untouched/155/389365.jpg'}\n",
            "{'ID': 1371, 'URL': 'https://www.tvmaze.com/shows/1371/westworld', 'Name': 'Westworld', 'Season': 2, 'Number': 6, 'Type': 'regular', 'Air Date': '2018-05-27', 'Air Time': '21:00', 'Runtime (mins)': 60, 'Average Rating': 7.7, 'Summary': 'Maeve finds her daughter, Delores finds the \"real\" Teddy, Grace finds her father, and Charlotte and Stubbs find Peter.', 'Medium Image': 'https://static.tvmaze.com/uploads/images/medium_landscape/156/390990.jpg', 'Original Image': 'https://static.tvmaze.com/uploads/images/original_untouched/156/390990.jpg'}\n",
            "{'ID': 1371, 'URL': 'https://www.tvmaze.com/shows/1371/westworld', 'Name': 'Westworld', 'Season': 2, 'Number': 7, 'Type': 'regular', 'Air Date': '2018-06-03', 'Air Time': '21:00', 'Runtime (mins)': 60, 'Average Rating': 7.9, 'Summary': \"Charlotte and Bernard review Bernard's memories to discover what happened to the missing control unit. Meanwhile, Robert has a chat with Bernard, and Maeve confronts her former tormentor.\", 'Medium Image': 'https://static.tvmaze.com/uploads/images/medium_landscape/156/392143.jpg', 'Original Image': 'https://static.tvmaze.com/uploads/images/original_untouched/156/392143.jpg'}\n",
            "{'ID': 1371, 'URL': 'https://www.tvmaze.com/shows/1371/westworld', 'Name': 'Westworld', 'Season': 2, 'Number': 8, 'Type': 'regular', 'Air Date': '2018-06-10', 'Air Time': '21:00', 'Runtime (mins)': 60, 'Average Rating': 8.7, 'Summary': \"Another of Westworld's Host revolutionaries is revealed. Meanwhile, Emily finds the Man and convinces the Ghost Nation to hand him over to her to ensure his suffering.\", 'Medium Image': 'https://static.tvmaze.com/uploads/images/medium_landscape/157/393811.jpg', 'Original Image': 'https://static.tvmaze.com/uploads/images/original_untouched/157/393811.jpg'}\n",
            "{'ID': 1371, 'URL': 'https://www.tvmaze.com/shows/1371/westworld', 'Name': 'Westworld', 'Season': 2, 'Number': 9, 'Type': 'regular', 'Air Date': '2018-06-17', 'Air Time': '21:00', 'Runtime (mins)': 60, 'Average Rating': 8.4, 'Summary': \"The Man learns that his grip on reality isn't what he thought, as he considers how his wife died. Meanwhile, Dolores continues her trek across the park to the Valley Beyond, and Bernard receives another visit from Robert.\", 'Medium Image': 'https://static.tvmaze.com/uploads/images/medium_landscape/158/395754.jpg', 'Original Image': 'https://static.tvmaze.com/uploads/images/original_untouched/158/395754.jpg'}\n",
            "{'ID': 1371, 'URL': 'https://www.tvmaze.com/shows/1371/westworld', 'Name': 'Westworld', 'Season': 2, 'Number': 10, 'Type': 'regular', 'Air Date': '2018-06-24', 'Air Time': '21:00', 'Runtime (mins)': 90, 'Average Rating': 8.5, 'Summary': 'The Man faces a personal reckoning, while Akecheta and the others find the door. Meanwhile, Bernard meets with Robert one last time after choosing how to deal with Dolores.', 'Medium Image': 'https://static.tvmaze.com/uploads/images/medium_landscape/158/397018.jpg', 'Original Image': 'https://static.tvmaze.com/uploads/images/original_untouched/158/397018.jpg'}\n",
            "{'ID': 1371, 'URL': 'https://www.tvmaze.com/shows/1371/westworld', 'Name': 'Westworld', 'Season': 3, 'Number': 1, 'Type': 'regular', 'Air Date': '2020-03-15', 'Air Time': '21:00', 'Runtime (mins)': 70, 'Average Rating': 8, 'Summary': \"If you're stuck in a loop, try walking in a straight line.\", 'Medium Image': 'https://static.tvmaze.com/uploads/images/medium_landscape/246/615760.jpg', 'Original Image': 'https://static.tvmaze.com/uploads/images/original_untouched/246/615760.jpg'}\n",
            "{'ID': 1371, 'URL': 'https://www.tvmaze.com/shows/1371/westworld', 'Name': 'Westworld', 'Season': 3, 'Number': 2, 'Type': 'regular', 'Air Date': '2020-03-22', 'Air Time': '21:00', 'Runtime (mins)': 60, 'Average Rating': 7.8, 'Summary': 'People put up a lot of walls. Bring a sledgehammer to your life.', 'Medium Image': 'https://static.tvmaze.com/uploads/images/medium_landscape/247/619379.jpg', 'Original Image': 'https://static.tvmaze.com/uploads/images/original_untouched/247/619379.jpg'}\n",
            "{'ID': 1371, 'URL': 'https://www.tvmaze.com/shows/1371/westworld', 'Name': 'Westworld', 'Season': 3, 'Number': 3, 'Type': 'regular', 'Air Date': '2020-03-29', 'Air Time': '21:00', 'Runtime (mins)': 60, 'Average Rating': 7.8, 'Summary': \"If you don't like what you see in the mirror, don't blame the mirror.\", 'Medium Image': 'https://static.tvmaze.com/uploads/images/medium_landscape/247/619381.jpg', 'Original Image': 'https://static.tvmaze.com/uploads/images/original_untouched/247/619381.jpg'}\n",
            "{'ID': 1371, 'URL': 'https://www.tvmaze.com/shows/1371/westworld', 'Name': 'Westworld', 'Season': 3, 'Number': 4, 'Type': 'regular', 'Air Date': '2020-04-05', 'Air Time': '21:00', 'Runtime (mins)': 70, 'Average Rating': 8, 'Summary': \"The truth doesn't always set you free.\", 'Medium Image': 'https://static.tvmaze.com/uploads/images/medium_landscape/249/623071.jpg', 'Original Image': 'https://static.tvmaze.com/uploads/images/original_untouched/249/623071.jpg'}\n",
            "{'ID': 1371, 'URL': 'https://www.tvmaze.com/shows/1371/westworld', 'Name': 'Westworld', 'Season': 3, 'Number': 5, 'Type': 'regular', 'Air Date': '2020-04-12', 'Air Time': '21:00', 'Runtime (mins)': 60, 'Average Rating': 7.9, 'Summary': 'Just say no.', 'Medium Image': 'https://static.tvmaze.com/uploads/images/medium_landscape/251/629355.jpg', 'Original Image': 'https://static.tvmaze.com/uploads/images/original_untouched/251/629355.jpg'}\n",
            "{'ID': 1371, 'URL': 'https://www.tvmaze.com/shows/1371/westworld', 'Name': 'Westworld', 'Season': 3, 'Number': 6, 'Type': 'regular', 'Air Date': '2020-04-19', 'Air Time': '21:00', 'Runtime (mins)': 60, 'Average Rating': 7.5, 'Summary': 'Do a lot of people tell you that you need therapy?', 'Medium Image': 'https://static.tvmaze.com/uploads/images/medium_landscape/252/632212.jpg', 'Original Image': 'https://static.tvmaze.com/uploads/images/original_untouched/252/632212.jpg'}\n",
            "{'ID': 1371, 'URL': 'https://www.tvmaze.com/shows/1371/westworld', 'Name': 'Westworld', 'Season': 3, 'Number': 7, 'Type': 'regular', 'Air Date': '2020-04-26', 'Air Time': '21:00', 'Runtime (mins)': 60, 'Average Rating': 7.5, 'Summary': \"A real friend is one who walks in when the rest of the world walks out. Caleb gets an insight on the true nature of his past; Dolores seeks out Rehoboam's predecessor, while Maeve tracks her down; Bernard, Stubbs, and William escape from all the chaos.\\xa0\", 'Medium Image': 'https://static.tvmaze.com/uploads/images/medium_landscape/254/635599.jpg', 'Original Image': 'https://static.tvmaze.com/uploads/images/original_untouched/254/635599.jpg'}\n",
            "{'ID': 1371, 'URL': 'https://www.tvmaze.com/shows/1371/westworld', 'Name': 'Westworld', 'Season': 3, 'Number': 8, 'Type': 'regular', 'Air Date': '2020-05-03', 'Air Time': '21:00', 'Runtime (mins)': 75, 'Average Rating': 7.7, 'Summary': \"Time to face the music. Dolores' true intentions are revealed; Bernard confronts a ghost from his past; Maeve is conflicted; Serac's voice is dominant; Caleb's role is revealed; and William faces an unexpected villain.\\xa0\\xa0\", 'Medium Image': 'https://static.tvmaze.com/uploads/images/medium_landscape/254/635189.jpg', 'Original Image': 'https://static.tvmaze.com/uploads/images/original_untouched/254/635189.jpg'}\n",
            "{'ID': 1371, 'URL': 'https://www.tvmaze.com/shows/1371/westworld', 'Name': 'Westworld', 'Season': 4, 'Number': 1, 'Type': 'regular', 'Air Date': '2022-06-26', 'Air Time': '21:00', 'Runtime (mins)': 55, 'Average Rating': 7.1, 'Summary': \"Hello again. Don't worry about a thing. It's all in your head.\", 'Medium Image': 'https://static.tvmaze.com/uploads/images/medium_landscape/414/1035413.jpg', 'Original Image': 'https://static.tvmaze.com/uploads/images/original_untouched/414/1035413.jpg'}\n",
            "{'ID': 1371, 'URL': 'https://www.tvmaze.com/shows/1371/westworld', 'Name': 'Westworld', 'Season': 4, 'Number': 2, 'Type': 'regular', 'Air Date': '2022-07-03', 'Air Time': '21:00', 'Runtime (mins)': 55, 'Average Rating': 7.4, 'Summary': 'I heard a fly buzz when I died.', 'Medium Image': 'https://static.tvmaze.com/uploads/images/medium_landscape/414/1036909.jpg', 'Original Image': 'https://static.tvmaze.com/uploads/images/original_untouched/414/1036909.jpg'}\n",
            "{'ID': 1371, 'URL': 'https://www.tvmaze.com/shows/1371/westworld', 'Name': 'Westworld', 'Season': 4, 'Number': 3, 'Type': 'regular', 'Air Date': '2022-07-10', 'Air Time': '21:00', 'Runtime (mins)': 55, 'Average Rating': 7.6, 'Summary': 'You can never go back again. But if you do, bring a shovel.', 'Medium Image': 'https://static.tvmaze.com/uploads/images/medium_landscape/415/1038520.jpg', 'Original Image': 'https://static.tvmaze.com/uploads/images/original_untouched/415/1038520.jpg'}\n",
            "{'ID': 1371, 'URL': 'https://www.tvmaze.com/shows/1371/westworld', 'Name': 'Westworld', 'Season': 4, 'Number': 4, 'Type': 'regular', 'Air Date': '2022-07-17', 'Air Time': '21:00', 'Runtime (mins)': 51, 'Average Rating': 7.7, 'Summary': 'Should auld acquaintance be forgot and days of auld lang syne?', 'Medium Image': 'https://static.tvmaze.com/uploads/images/medium_landscape/415/1039531.jpg', 'Original Image': 'https://static.tvmaze.com/uploads/images/original_untouched/415/1039531.jpg'}\n",
            "{'ID': 1371, 'URL': 'https://www.tvmaze.com/shows/1371/westworld', 'Name': 'Westworld', 'Season': 4, 'Number': 5, 'Type': 'regular', 'Air Date': '2022-07-24', 'Air Time': '21:00', 'Runtime (mins)': 60, 'Average Rating': 7.8, 'Summary': 'God is bored.', 'Medium Image': 'https://static.tvmaze.com/uploads/images/medium_landscape/416/1042460.jpg', 'Original Image': 'https://static.tvmaze.com/uploads/images/original_untouched/416/1042460.jpg'}\n",
            "{'ID': 1371, 'URL': 'https://www.tvmaze.com/shows/1371/westworld', 'Name': 'Westworld', 'Season': 4, 'Number': 6, 'Type': 'regular', 'Air Date': '2022-07-31', 'Air Time': '21:00', 'Runtime (mins)': 60, 'Average Rating': 7.5, 'Summary': 'To thine own selves be true.', 'Medium Image': 'https://static.tvmaze.com/uploads/images/medium_landscape/417/1044302.jpg', 'Original Image': 'https://static.tvmaze.com/uploads/images/original_untouched/417/1044302.jpg'}\n",
            "{'ID': 1371, 'URL': 'https://www.tvmaze.com/shows/1371/westworld', 'Name': 'Westworld', 'Season': 4, 'Number': 7, 'Type': 'regular', 'Air Date': '2022-08-07', 'Air Time': '21:00', 'Runtime (mins)': 60, 'Average Rating': 7.7, 'Summary': 'You want to have a drink at a time like this?', 'Medium Image': 'https://static.tvmaze.com/uploads/images/medium_landscape/418/1045645.jpg', 'Original Image': 'https://static.tvmaze.com/uploads/images/original_untouched/418/1045645.jpg'}\n",
            "{'ID': 1371, 'URL': 'https://www.tvmaze.com/shows/1371/westworld', 'Name': 'Westworld', 'Season': 4, 'Number': 8, 'Type': 'regular', 'Air Date': '2022-08-14', 'Air Time': '21:00', 'Runtime (mins)': 60, 'Average Rating': 7.5, 'Summary': \"Like what I've done with the place? (I just cranked it to expert level.)\", 'Medium Image': 'https://static.tvmaze.com/uploads/images/medium_landscape/418/1046925.jpg', 'Original Image': 'https://static.tvmaze.com/uploads/images/original_untouched/418/1046925.jpg'}\n"
          ]
        }
      ],
      "source": [
        "import requests\n",
        "import json\n",
        "import re\n",
        "\n",
        "def download_data(url):\n",
        "    response = requests.get(url)\n",
        "    data = response.json()\n",
        "    return data\n",
        "\n",
        "def extract_data(data):\n",
        "    show_id = data['id']\n",
        "    show_url = data['url']\n",
        "    show_name = data['name']\n",
        "    episodes = data['_embedded']['episodes']\n",
        "\n",
        "    extracted_data = []\n",
        "    for episode in episodes:\n",
        "        episode_data = {\n",
        "            'ID': show_id,\n",
        "            'URL': show_url,\n",
        "            'Name': show_name,\n",
        "            'Season': episode['season'],\n",
        "            'Number': episode['number'],\n",
        "            'Type': episode['type'],\n",
        "            'Air Date': episode['airdate'],\n",
        "            'Air Time': episode['airtime'],\n",
        "            'Runtime (mins)': episode['runtime'],\n",
        "            'Average Rating': episode['rating']['average'],\n",
        "            'Summary': re.sub('<.*?>', '', episode['summary']),\n",
        "            'Medium Image': episode['image']['medium'],\n",
        "            'Original Image': episode['image']['original']\n",
        "        }\n",
        "        extracted_data.append(episode_data)\n",
        "    return extracted_data\n",
        "\n",
        "url = \"http://api.tvmaze.com/singlesearch/shows?q=westworld&embed=episodes\"\n",
        "show_data = download_data(url)\n",
        "extracted_data = extract_data(show_data)\n",
        "for episode_data in extracted_data:\n",
        "    print(episode_data)"
      ]
    }
  ]
}