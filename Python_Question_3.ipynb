{
  "nbformat": 4,
  "nbformat_minor": 0,
  "metadata": {
    "colab": {
      "provenance": [],
      "authorship_tag": "ABX9TyMo/H50VSe2LnxaHWDJ+N5Q",
      "include_colab_link": true
    },
    "kernelspec": {
      "name": "python3",
      "display_name": "Python 3"
    },
    "language_info": {
      "name": "python"
    }
  },
  "cells": [
    {
      "cell_type": "markdown",
      "metadata": {
        "id": "view-in-github",
        "colab_type": "text"
      },
      "source": [
        "<a href=\"https://colab.research.google.com/github/athulsunny/Placement-Assignment_Athul.Sunny/blob/main/Python_Question_3.ipynb\" target=\"_parent\"><img src=\"https://colab.research.google.com/assets/colab-badge.svg\" alt=\"Open In Colab\"/></a>"
      ]
    },
    {
      "cell_type": "code",
      "execution_count": 1,
      "metadata": {
        "colab": {
          "base_uri": "https://localhost:8080/"
        },
        "id": "M7qsxav66pdX",
        "outputId": "cede1f84-ba9a-473d-9ba0-ddd857efe020"
      },
      "outputs": [
        {
          "output_type": "stream",
          "name": "stdout",
          "text": [
            "Data has been downloaded, processed, and saved in pokemon_data.xlsx\n"
          ]
        }
      ],
      "source": [
        "import requests\n",
        "import json\n",
        "import pandas as pd\n",
        "\n",
        "def download_data(url):\n",
        "    response = requests.get(url)\n",
        "    data = response.json()\n",
        "    return data\n",
        "\n",
        "def process_data(data):\n",
        "    processed_data = []\n",
        "    for pokemon in data['pokemon']:\n",
        "        entry = {\n",
        "            'ID': pokemon['id'],\n",
        "            'Number': pokemon['num'],\n",
        "            'Name': pokemon['name'],\n",
        "            'Image URL': pokemon['img'],\n",
        "            'Type': ', '.join(pokemon['type']),\n",
        "            'Height': pokemon['height'],\n",
        "            'Weight': pokemon['weight'],\n",
        "            'Candy': pokemon.get('candy', ''),\n",
        "            'Candy Count': pokemon.get('candy_count', ''),\n",
        "            'Egg': pokemon.get('egg', ''),\n",
        "            'Spawn Chance': pokemon.get('spawn_chance', ''),\n",
        "            'Average Spawns': pokemon.get('avg_spawns', ''),\n",
        "            'Spawn Time': pokemon.get('spawn_time', ''),\n",
        "            'Weaknesses': ', '.join(pokemon.get('weaknesses', [])),\n",
        " 'Next Evolution': ', '.join([evolution['name'] for evolution in pokemon.get('next_evolution',   [])]),\n",
        "            'Previous Evolution': ', '.join([evolution['name'] for evolution in pokemon.get('prev_evolution', [])])\n",
        "         }\n",
        "        processed_data.append(entry)\n",
        "    return processed_data\n",
        "\n",
        "def convert_to_excel(data, filename):\n",
        "    df = pd.DataFrame(data)\n",
        "    df.to_excel(filename, index=False)\n",
        "url = \"https://raw.githubusercontent.com/Biuni/PokemonGO-Pokedex/master/pokedex.json\"\n",
        "pokemon_data = download_data(url)\n",
        "processed_data = process_data(pokemon_data)\n",
        "excel_filename = \"pokemon_data.xlsx\"\n",
        "convert_to_excel(processed_data, excel_filename)\n",
        "print(\"Data has been downloaded, processed, and saved in\", excel_filename)"
      ]
    }
  ]
}