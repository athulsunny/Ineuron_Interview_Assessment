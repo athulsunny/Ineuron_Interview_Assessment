{
  "nbformat": 4,
  "nbformat_minor": 0,
  "metadata": {
    "colab": {
      "provenance": [],
      "authorship_tag": "ABX9TyPTkYUJK2KHJdlESGv1IqCp",
      "include_colab_link": true
    },
    "kernelspec": {
      "name": "python3",
      "display_name": "Python 3"
    },
    "language_info": {
      "name": "python"
    }
  },
  "cells": [
    {
      "cell_type": "markdown",
      "metadata": {
        "id": "view-in-github",
        "colab_type": "text"
      },
      "source": [
        "<a href=\"https://colab.research.google.com/github/athulsunny/Ineuron_Interview_Assessment/blob/main/Python_Question_2.ipynb\" target=\"_parent\"><img src=\"https://colab.research.google.com/assets/colab-badge.svg\" alt=\"Open In Colab\"/></a>"
      ]
    },
    {
      "cell_type": "code",
      "execution_count": 2,
      "metadata": {
        "colab": {
          "base_uri": "https://localhost:8080/"
        },
        "id": "IXmBM4v26MKq",
        "outputId": "e2b6ad2a-cbc5-4fec-ef30-18d00da0392c"
      },
      "outputs": [
        {
          "output_type": "stream",
          "name": "stdout",
          "text": [
            "YES\n",
            "YES\n"
          ]
        }
      ],
      "source": [
        "def is_valid_string(s):\n",
        "    char_freq = {}\n",
        "    for char in s:\n",
        "        char_freq[char] = char_freq.get(char, 0) + 1\n",
        "    freq_freq = {}\n",
        "    for freq in char_freq.values():\n",
        "        freq_freq[freq] = freq_freq.get(freq, 0) + 1\n",
        "    if len(freq_freq) == 1:\n",
        "        return \"YES\"\n",
        "    if len(freq_freq) > 2:\n",
        "        return \"NO\"\n",
        "    freq1, freq2 = freq_freq.keys()\n",
        "    if (freq_freq[freq1] == 1 and freq1 == 1) or (freq_freq[freq2] == 1 and freq2 == 1):\n",
        "        return \"YES\"\n",
        "\n",
        "    if abs(freq1 - freq2) == 1 and (freq_freq[freq1] == 1 or freq_freq[freq2] == 1):\n",
        "        return \"YES\"\n",
        "    return \"NO\"\n",
        "string1 = \"abc\"\n",
        "result1 = is_valid_string(string1)\n",
        "print(result1)  # YES\n",
        "\n",
        "string2 = \"abcc\"\n",
        "result2 = is_valid_string(string2)\n",
        "print(result2)  # NO"
      ]
    }
  ]
}