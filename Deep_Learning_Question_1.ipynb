{
  "nbformat": 4,
  "nbformat_minor": 0,
  "metadata": {
    "colab": {
      "provenance": [],
      "authorship_tag": "ABX9TyPmn8F8QynriXG9nyVuFcth",
      "include_colab_link": true
    },
    "kernelspec": {
      "name": "python3",
      "display_name": "Python 3"
    },
    "language_info": {
      "name": "python"
    }
  },
  "cells": [
    {
      "cell_type": "markdown",
      "metadata": {
        "id": "view-in-github",
        "colab_type": "text"
      },
      "source": [
        "<a href=\"https://colab.research.google.com/github/athulsunny/Ineuron_Interview_Assessment/blob/main/Deep_Learning_Question_1.ipynb\" target=\"_parent\"><img src=\"https://colab.research.google.com/assets/colab-badge.svg\" alt=\"Open In Colab\"/></a>"
      ]
    },
    {
      "cell_type": "markdown",
      "source": [
        "Implement 3 different CNN architectures with a comparison table for the MNSIT\n",
        "dataset using the Tensorflow library.\n",
        "Note -\n",
        "1. The model parameters for each architecture should not be more than 8000\n",
        "parameters\n",
        "2. Code comments should be given for proper code understanding.\n",
        "3. The minimum accuracy for each accuracy should be at least 96%"
      ],
      "metadata": {
        "id": "kmI4-zpMU87m"
      }
    },
    {
      "cell_type": "code",
      "source": [
        "import tensorflow as tf\n",
        "from tensorflow.keras import layers, models\n",
        "\n",
        "# Load MNIST dataset\n",
        "(x_train, y_train), (x_test, y_test) = tf.keras.datasets.mnist.load_data()\n",
        "\n",
        "# Preprocess the data\n",
        "x_train = x_train.reshape(-1, 28, 28, 1).astype(\"float32\") / 255.0\n",
        "x_test = x_test.reshape(-1, 28, 28, 1).astype(\"float32\") / 255.0\n",
        "y_train = tf.keras.utils.to_categorical(y_train, num_classes=10)\n",
        "y_test = tf.keras.utils.to_categorical(y_test, num_classes=10)\n",
        "\n",
        "# Define the first CNN architecture\n",
        "def cnn_model_1():\n",
        "    model = models.Sequential()\n",
        "    model.add(layers.Conv2D(32, (3, 3), activation=\"relu\", input_shape=(28, 28, 1)))\n",
        "    model.add(layers.MaxPooling2D((2, 2)))\n",
        "    model.add(layers.Flatten())\n",
        "    model.add(layers.Dense(64, activation=\"relu\"))\n",
        "    model.add(layers.Dense(10, activation=\"softmax\"))\n",
        "    return model\n",
        "\n",
        "# Define the second CNN architecture\n",
        "def cnn_model_2():\n",
        "    model = models.Sequential()\n",
        "    model.add(layers.Conv2D(16, (3, 3), activation=\"relu\", input_shape=(28, 28, 1)))\n",
        "    model.add(layers.MaxPooling2D((2, 2)))\n",
        "    model.add(layers.Conv2D(32, (3, 3), activation=\"relu\"))\n",
        "    model.add(layers.MaxPooling2D((2, 2)))\n",
        "    model.add(layers.Flatten())\n",
        "    model.add(layers.Dense(64, activation=\"relu\"))\n",
        "    model.add(layers.Dense(10, activation=\"softmax\"))\n",
        "    return model\n",
        "\n",
        "# Define the third CNN architecture\n",
        "def cnn_model_3():\n",
        "    model = models.Sequential()\n",
        "    model.add(layers.Conv2D(8, (3, 3), activation=\"relu\", input_shape=(28, 28, 1)))\n",
        "    model.add(layers.MaxPooling2D((2, 2)))\n",
        "    model.add(layers.Conv2D(16, (3, 3), activation=\"relu\"))\n",
        "    model.add(layers.MaxPooling2D((2, 2)))\n",
        "    model.add(layers.Flatten())\n",
        "    model.add(layers.Dense(32, activation=\"relu\"))\n",
        "    model.add(layers.Dense(10, activation=\"softmax\"))\n",
        "    return model\n",
        "\n",
        "# Compile and train the models\n",
        "models_list = [cnn_model_1(), cnn_model_2(), cnn_model_3()]\n",
        "accuracies = []\n",
        "\n",
        "for model in models_list:\n",
        "    model.compile(optimizer=\"adam\", loss=\"categorical_crossentropy\", metrics=[\"accuracy\"])\n",
        "    model.fit(x_train, y_train, batch_size=128, epochs=10, verbose=1)\n",
        "    _, accuracy = model.evaluate(x_test, y_test, verbose=0)\n",
        "    accuracies.append(accuracy)\n",
        "\n",
        "# Print the accuracies for each model\n",
        "print(\"Model 1 Accuracy:\", accuracies[0])\n",
        "print(\"Model 2 Accuracy:\", accuracies[1])\n",
        "print(\"Model 3 Accuracy:\", accuracies[2])\n"
      ],
      "metadata": {
        "colab": {
          "base_uri": "https://localhost:8080/"
        },
        "id": "3EMkm2DwVBwa",
        "outputId": "7515e2a2-ea7a-4004-bd99-847a2774533e"
      },
      "execution_count": 1,
      "outputs": [
        {
          "output_type": "stream",
          "name": "stdout",
          "text": [
            "Downloading data from https://storage.googleapis.com/tensorflow/tf-keras-datasets/mnist.npz\n",
            "11490434/11490434 [==============================] - 0s 0us/step\n",
            "Epoch 1/10\n",
            "469/469 [==============================] - 32s 65ms/step - loss: 0.2688 - accuracy: 0.9238\n",
            "Epoch 2/10\n",
            "469/469 [==============================] - 26s 55ms/step - loss: 0.0877 - accuracy: 0.9740\n",
            "Epoch 3/10\n",
            "469/469 [==============================] - 26s 55ms/step - loss: 0.0581 - accuracy: 0.9828\n",
            "Epoch 4/10\n",
            "469/469 [==============================] - 26s 55ms/step - loss: 0.0447 - accuracy: 0.9867\n",
            "Epoch 5/10\n",
            "469/469 [==============================] - 26s 55ms/step - loss: 0.0349 - accuracy: 0.9900\n",
            "Epoch 6/10\n",
            "469/469 [==============================] - 26s 55ms/step - loss: 0.0284 - accuracy: 0.9916\n",
            "Epoch 7/10\n",
            "469/469 [==============================] - 25s 54ms/step - loss: 0.0237 - accuracy: 0.9932\n",
            "Epoch 8/10\n",
            "469/469 [==============================] - 25s 54ms/step - loss: 0.0188 - accuracy: 0.9948\n",
            "Epoch 9/10\n",
            "469/469 [==============================] - 25s 54ms/step - loss: 0.0146 - accuracy: 0.9958\n",
            "Epoch 10/10\n",
            "469/469 [==============================] - 25s 54ms/step - loss: 0.0120 - accuracy: 0.9965\n",
            "Epoch 1/10\n",
            "469/469 [==============================] - 27s 55ms/step - loss: 0.3071 - accuracy: 0.9120\n",
            "Epoch 2/10\n",
            "469/469 [==============================] - 26s 55ms/step - loss: 0.0792 - accuracy: 0.9759\n",
            "Epoch 3/10\n",
            "469/469 [==============================] - 26s 55ms/step - loss: 0.0576 - accuracy: 0.9819\n",
            "Epoch 4/10\n",
            "469/469 [==============================] - 26s 55ms/step - loss: 0.0466 - accuracy: 0.9857\n",
            "Epoch 5/10\n",
            "469/469 [==============================] - 26s 55ms/step - loss: 0.0379 - accuracy: 0.9883\n",
            "Epoch 6/10\n",
            "469/469 [==============================] - 26s 55ms/step - loss: 0.0337 - accuracy: 0.9896\n",
            "Epoch 7/10\n",
            "469/469 [==============================] - 26s 55ms/step - loss: 0.0286 - accuracy: 0.9912\n",
            "Epoch 8/10\n",
            "469/469 [==============================] - 26s 55ms/step - loss: 0.0253 - accuracy: 0.9923\n",
            "Epoch 9/10\n",
            "469/469 [==============================] - 26s 55ms/step - loss: 0.0217 - accuracy: 0.9932\n",
            "Epoch 10/10\n",
            "469/469 [==============================] - 26s 55ms/step - loss: 0.0179 - accuracy: 0.9941\n",
            "Epoch 1/10\n",
            "469/469 [==============================] - 18s 37ms/step - loss: 0.4258 - accuracy: 0.8765\n",
            "Epoch 2/10\n",
            "469/469 [==============================] - 19s 41ms/step - loss: 0.1283 - accuracy: 0.9618\n",
            "Epoch 3/10\n",
            "469/469 [==============================] - 18s 37ms/step - loss: 0.0959 - accuracy: 0.9708\n",
            "Epoch 4/10\n",
            "469/469 [==============================] - 18s 37ms/step - loss: 0.0777 - accuracy: 0.9756\n",
            "Epoch 5/10\n",
            "469/469 [==============================] - 19s 40ms/step - loss: 0.0677 - accuracy: 0.9793\n",
            "Epoch 6/10\n",
            "469/469 [==============================] - 18s 37ms/step - loss: 0.0588 - accuracy: 0.9822\n",
            "Epoch 7/10\n",
            "469/469 [==============================] - 19s 39ms/step - loss: 0.0537 - accuracy: 0.9837\n",
            "Epoch 8/10\n",
            "469/469 [==============================] - 18s 38ms/step - loss: 0.0482 - accuracy: 0.9848\n",
            "Epoch 9/10\n",
            "469/469 [==============================] - 18s 37ms/step - loss: 0.0433 - accuracy: 0.9868\n",
            "Epoch 10/10\n",
            "469/469 [==============================] - 19s 41ms/step - loss: 0.0410 - accuracy: 0.9873\n",
            "Model 1 Accuracy: 0.9847000241279602\n",
            "Model 2 Accuracy: 0.9887999892234802\n",
            "Model 3 Accuracy: 0.9848999977111816\n"
          ]
        }
      ]
    },
    {
      "cell_type": "markdown",
      "source": [
        "Print the accuracies for each model"
      ],
      "metadata": {
        "id": "Ec_CExHSYmiA"
      }
    },
    {
      "cell_type": "code",
      "source": [
        "print(\"Model 1 Accuracy:\", accuracies[0])\n",
        "print(\"Model 2 Accuracy:\", accuracies[1])\n",
        "print(\"Model 3 Accuracy:\", accuracies[2])"
      ],
      "metadata": {
        "colab": {
          "base_uri": "https://localhost:8080/"
        },
        "id": "BBbLO2UsYjac",
        "outputId": "070bf7aa-f889-4ec3-f9ef-7c586a335d13"
      },
      "execution_count": 2,
      "outputs": [
        {
          "output_type": "stream",
          "name": "stdout",
          "text": [
            "Model 1 Accuracy: 0.9847000241279602\n",
            "Model 2 Accuracy: 0.9887999892234802\n",
            "Model 3 Accuracy: 0.9848999977111816\n"
          ]
        }
      ]
    },
    {
      "cell_type": "code",
      "source": [],
      "metadata": {
        "id": "Ekvt4ZA5Z4Om"
      },
      "execution_count": null,
      "outputs": []
    }
  ]
}