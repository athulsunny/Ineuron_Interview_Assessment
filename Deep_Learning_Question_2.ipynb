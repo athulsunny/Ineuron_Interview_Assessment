{
  "nbformat": 4,
  "nbformat_minor": 0,
  "metadata": {
    "colab": {
      "provenance": [],
      "authorship_tag": "ABX9TyPQLpHbrsJDfEEe38CUqFj4",
      "include_colab_link": true
    },
    "kernelspec": {
      "name": "python3",
      "display_name": "Python 3"
    },
    "language_info": {
      "name": "python"
    }
  },
  "cells": [
    {
      "cell_type": "markdown",
      "metadata": {
        "id": "view-in-github",
        "colab_type": "text"
      },
      "source": [
        "<a href=\"https://colab.research.google.com/github/athulsunny/Ineuron_Interview_Assessment/blob/main/Deep_Learning_Question_2.ipynb\" target=\"_parent\"><img src=\"https://colab.research.google.com/assets/colab-badge.svg\" alt=\"Open In Colab\"/></a>"
      ]
    },
    {
      "cell_type": "markdown",
      "source": [
        "Implement 5 different CNN architectures with a comparison table for CIFAR 10\n",
        "dataset using the PyTorch library\n",
        "Note -\n",
        "1. The model parameters for each architecture should not be more than 10000\n",
        "parameters\n",
        "2 Code comments should be given for proper code understanding"
      ],
      "metadata": {
        "id": "JLbsiACQV42g"
      }
    },
    {
      "cell_type": "code",
      "source": [
        "import torch\n",
        "import torch.nn as nn\n",
        "import torch.optim as optim\n",
        "import torchvision.transforms as transforms\n",
        "from torchvision.datasets import CIFAR10\n",
        "from torch.utils.data import DataLoader\n",
        "\n",
        "# Define device\n",
        "device = torch.device(\"cuda\" if torch.cuda.is_available() else \"cpu\")\n",
        "\n",
        "# Define transformations\n",
        "transform = transforms.Compose([\n",
        "    transforms.ToTensor(),\n",
        "    transforms.Normalize((0.5, 0.5, 0.5), (0.5, 0.5, 0.5))\n",
        "])\n",
        "\n",
        "# Load CIFAR-10 dataset\n",
        "train_dataset = CIFAR10(root=\"./data\", train=True, download=True, transform=transform)\n",
        "test_dataset = CIFAR10(root=\"./data\", train=False, download=True, transform=transform)\n",
        "\n",
        "# Define batch size\n",
        "batch_size = 128\n",
        "\n",
        "# Create data loaders\n",
        "train_loader = DataLoader(train_dataset, batch_size=batch_size, shuffle=True)\n",
        "test_loader = DataLoader(test_dataset, batch_size=batch_size, shuffle=False)\n"
      ],
      "metadata": {
        "colab": {
          "base_uri": "https://localhost:8080/"
        },
        "id": "TXzTxo69a0rd",
        "outputId": "22abf16c-6500-4aad-ce64-28dc2be8cd9c"
      },
      "execution_count": null,
      "outputs": [
        {
          "output_type": "stream",
          "name": "stdout",
          "text": [
            "Downloading https://www.cs.toronto.edu/~kriz/cifar-10-python.tar.gz to ./data/cifar-10-python.tar.gz\n"
          ]
        },
        {
          "output_type": "stream",
          "name": "stderr",
          "text": [
            "100%|██████████| 170498071/170498071 [00:11<00:00, 14415255.72it/s]\n"
          ]
        },
        {
          "output_type": "stream",
          "name": "stdout",
          "text": [
            "Extracting ./data/cifar-10-python.tar.gz to ./data\n",
            "Files already downloaded and verified\n"
          ]
        }
      ]
    },
    {
      "cell_type": "code",
      "source": [
        "\n",
        "# Define the first CNN architecture\n",
        "class CNNModel1(nn.Module):\n",
        "    def __init__(self):\n",
        "        super(CNNModel1, self).__init__()\n",
        "        self.conv1 = nn.Conv2d(3, 32, kernel_size=3, stride=1, padding=1)\n",
        "        self.relu1 = nn.ReLU()\n",
        "        self.pool1 = nn.MaxPool2d(kernel_size=2)\n",
        "        self.conv2 = nn.Conv2d(32, 64, kernel_size=3, stride=1, padding=1)\n",
        "        self.relu2 = nn.ReLU()\n",
        "        self.pool2 = nn.MaxPool2d(kernel_size=2)\n",
        "        self.fc1 = nn.Linear(64 * 8 * 8, 256)\n",
        "        self.relu3 = nn.ReLU()\n",
        "        self.fc2 = nn.Linear(256, 10)\n",
        "    \n",
        "    def forward(self, x):\n",
        "        x = self.pool1(self.relu1(self.conv1(x)))\n",
        "        x = self.pool2(self.relu2(self.conv2(x)))\n",
        "        x = x.view(-1, 64 * 8 * 8)\n",
        "        x = self.relu3(self.fc1(x))\n",
        "        x = self.fc2(x)\n",
        "        return x"
      ],
      "metadata": {
        "id": "my1-QgW5bR9q"
      },
      "execution_count": null,
      "outputs": []
    },
    {
      "cell_type": "code",
      "source": [
        "\n",
        "# Define the second CNN architecture\n",
        "class CNNModel2(nn.Module):\n",
        "    def __init__(self):\n",
        "        super(CNNModel2, self).__init__()\n",
        "        self.conv1 = nn.Conv2d(3, 32, kernel_size=3, stride=1, padding=1)\n",
        "        self.relu1 = nn.ReLU()\n",
        "        self.conv2 = nn.Conv2d(32, 32, kernel_size=3, stride=1, padding=1)\n",
        "        self.relu2 = nn.ReLU()\n",
        "        self.pool1 = nn.MaxPool2d(kernel_size=2)\n",
        "        self.conv3 = nn.Conv2d(32, 64, kernel_size=3, stride=1, padding=1)\n",
        "        self.relu3 = nn.ReLU()\n",
        "        self.conv4 = nn.Conv2d(64, 64, kernel_size=3, stride=1, padding=1)\n",
        "        self.relu4 = nn.ReLU()\n",
        "        self.pool2 = nn.MaxPool2d(kernel_size=2)\n",
        "        self.fc1 = nn.Linear(64 * 8 * 8, 512)\n",
        "        self.relu5 = nn.ReLU()\n",
        "        self.fc2 = nn.Linear(512, 10)\n",
        "    \n",
        "    def forward(self, x):\n",
        "        x = self.relu1(self.conv1(x))\n",
        "        x = self.relu2(self.conv2(x))\n",
        "        x = self.pool1(x)\n",
        "        x = self.relu3(self.conv3(x))\n",
        "        x = self.relu4(self.conv4(x))\n",
        "        x = self.pool2(x)\n",
        "        x = x.view(-1, 64 * 8 * 8)\n",
        "        x = self.relu5(self.fc1(x))\n",
        "        x = self.fc2(x)\n",
        "        return x"
      ],
      "metadata": {
        "id": "UGDcFqZZbSG6"
      },
      "execution_count": null,
      "outputs": []
    },
    {
      "cell_type": "code",
      "source": [
        "\n",
        "\n",
        "# Define the third CNN architecture\n",
        "class CNNModel3(nn.Module):\n",
        "    def __init__(self):\n",
        "        super(CNNModel3, self).__init__()\n",
        "        self.conv1 = nn.Conv2d(3, 16, kernel_size=3, stride=1, padding=1)\n",
        "        self.relu1 = nn.ReLU()\n",
        "        self.pool1 = nn.MaxPool2d(kernel_size=2)\n",
        "        self.conv2 = nn.Conv2d(16, 32, kernel_size=3, stride=1, padding=1)\n",
        "        self.relu2 = nn.ReLU()\n",
        "        self.pool2 = nn.MaxPool2d(kernel_size=2)\n",
        "        self.fc1 = nn.Linear(32 * 8 * 8, 256)\n",
        "        self.relu3 = nn.ReLU()\n",
        "        self.fc2 = nn.Linear(256, 10)\n",
        "    \n",
        "    def forward(self, x):\n",
        "        x = self.pool1(self.relu1(self.conv1(x)))\n",
        "        x = self.pool2(self.relu2(self.conv2(x)))\n",
        "        x = x.view(-1, 32 * 8 * 8)\n",
        "        x = self.relu3(self.fc1(x))\n",
        "        x = self.fc2(x)\n",
        "        return x"
      ],
      "metadata": {
        "id": "Q1EzJcc0bSOT"
      },
      "execution_count": null,
      "outputs": []
    },
    {
      "cell_type": "code",
      "source": [
        "# Define the fourth CNN architecture\n",
        "class CNNModel4(nn.Module):\n",
        "    def __init__(self):\n",
        "        super(CNNModel4, self).__init__()\n",
        "        self.conv1 = nn.Conv2d(3, 8, kernel_size=3, stride=1, padding=1)\n",
        "        self.relu1 = nn.ReLU()\n",
        "        self.conv2 = nn.Conv2d(8, 16, kernel_size=3, stride=1, padding=1)\n",
        "        self.relu2 = nn.ReLU()\n",
        "        self.pool1 = nn.MaxPool2d(kernel_size=2)\n",
        "        self.conv3 = nn.Conv2d(16, 32, kernel_size=3, stride=1, padding=1)\n",
        "        self.relu3 = nn.ReLU()\n",
        "        self.pool2 = nn.MaxPool2d(kernel_size=2)\n",
        "        self.fc1 = nn.Linear(32 * 8 * 8, 128)\n",
        "        self.relu4 = nn.ReLU()\n",
        "        self.fc2 = nn.Linear(128, 10)\n",
        "    \n",
        "    def forward(self, x):\n",
        "        x = self.relu1(self.conv1(x))\n",
        "        x = self.relu2(self.conv2(x))\n",
        "        x = self.pool1(x)\n",
        "        x = self.relu3(self.conv3(x))\n",
        "        x = self.pool2(x)\n",
        "        x = x.view(-1, 32 * 8 * 8)\n",
        "        x = self.relu4(self.fc1(x))\n",
        "        x = self.fc2(x)\n",
        "        return x"
      ],
      "metadata": {
        "id": "KAj39_8gbSRH"
      },
      "execution_count": null,
      "outputs": []
    },
    {
      "cell_type": "code",
      "source": [
        "# Define the fifth CNN architecture\n",
        "class CNNModel5(nn.Module):\n",
        "    def __init__(self):\n",
        "        super(CNNModel5, self).__init__()\n",
        "        self.conv1 = nn.Conv2d(3, 16, kernel_size=3, stride=1, padding=1)\n",
        "        self.relu1 = nn.ReLU()\n",
        "        self.conv2 = nn.Conv2d(16, 32, kernel_size=3, stride=1, padding=1)\n",
        "        self.relu2 = nn.ReLU()\n",
        "        self.pool1 = nn.MaxPool2d(kernel_size=2)\n",
        "        self.conv3 = nn.Conv2d(32, 64, kernel_size=3, stride=1, padding=1)\n",
        "        self.relu3 = nn.ReLU()\n",
        "        self.conv4 = nn.Conv2d(64, 64, kernel_size=3, stride=1, padding=1)\n",
        "        self.relu4 = nn.ReLU()\n",
        "        self.pool2 = nn.MaxPool2d(kernel_size=2)\n",
        "        self.fc1 = nn.Linear(64 * 8 * 8, 256)\n",
        "        self.relu5 = nn.ReLU()\n",
        "        self.fc2 = nn.Linear(256, 10)\n",
        "    \n",
        "    def forward(self, x):\n",
        "        x = self.relu1(self.conv1(x))\n",
        "        x = self.relu2(self.conv2(x))\n",
        "        x = self.pool1(x)\n",
        "        x = self.relu3(self.conv3(x))\n",
        "        x = self.relu4(self.conv4(x))\n",
        "        x = self.pool2(x)\n",
        "        x = x.view(-1, 64 * 8 * 8)\n",
        "        x = self.relu5(self.fc1(x))\n",
        "        x = self.fc2(x)\n",
        "        return x"
      ],
      "metadata": {
        "id": "DK-keMFjbSTe"
      },
      "execution_count": null,
      "outputs": []
    },
    {
      "cell_type": "code",
      "source": [
        "# Function to train the model\n",
        "def train(model, optimizer, criterion, train_loader):\n",
        "    model.train()\n",
        "    for batch_idx, (data, target) in enumerate(train_loader):\n",
        "        data, target = data.to(device), target.to(device)\n",
        "        optimizer.zero_grad()\n",
        "        output = model(data)\n",
        "        loss = criterion(output, target)\n",
        "        loss.backward()\n",
        "        optimizer.step()\n",
        "\n",
        "# Function to evaluate the model\n",
        "def evaluate(model, criterion, data_loader):\n",
        "    model.eval()\n",
        "    correct = 0\n",
        "    total = 0\n",
        "    with torch.no_grad():\n",
        "        for data, target in data_loader:\n",
        "            data, target = data.to(device), target.to(device)\n",
        "            output = model(data)\n",
        "            _, predicted = torch.max(output.data, 1)\n",
        "            total += target.size(0)\n",
        "            correct += (predicted == target).sum().item()\n",
        "    return (100 * correct / total)\n"
      ],
      "metadata": {
        "id": "xfol5hytbSVu"
      },
      "execution_count": null,
      "outputs": []
    },
    {
      "cell_type": "code",
      "source": [
        "\n",
        "# Create the models\n",
        "model1 = CNNModel1().to(device)\n",
        "model2 = CNNModel2().to(device)\n",
        "model3 = CNNModel3().to(device)\n",
        "model4 = CNNModel4().to(device)\n",
        "model5 = CNNModel5().to(device)\n",
        "\n",
        "# Define the optimizers and criterion\n",
        "optimizer1 = optim.Adam(model1.parameters(), lr=0.001)\n",
        "optimizer2 = optim.Adam(model2.parameters(), lr=0.001)\n",
        "optimizer3 = optim.Adam(model3.parameters(), lr=0.001)\n",
        "optimizer4 = optim.Adam(model4.parameters(), lr=0.001)\n",
        "optimizer5 = optim.Adam(model5.parameters(), lr=0.001)\n",
        "criterion = nn.CrossEntropyLoss()\n",
        "\n",
        "# Train the models\n",
        "num_epochs = 10\n",
        "\n",
        "for epoch in range(num_epochs):\n",
        "    train(model1, optimizer1, criterion, train_loader)\n",
        "    train(model2, optimizer2, criterion, train_loader)\n",
        "    train(model3, optimizer3, criterion, train_loader)\n",
        "    train(model4, optimizer4, criterion, train_loader)\n",
        "    train(model5, optimizer5, criterion, train_loader)\n",
        "    accuracy1 = evaluate(model1, criterion, test_loader)\n",
        "    accuracy2 = evaluate(model2, criterion, test_loader)\n",
        "    accuracy3 = evaluate(model3, criterion, test_loader)\n",
        "    accuracy4 = evaluate(model4, criterion, test_loader)\n",
        "    accuracy5 = evaluate(model5, criterion, test_loader)\n",
        "    \n",
        "    # Check minimum accuracy threshold\n",
        "    if accuracy1 >= 96 and accuracy2 >= 96 and accuracy3 >= 96 and accuracy4 >= 96 and accuracy5 >= 96:\n",
        "        break\n",
        "\n",
        "# Print the accuracies for each model\n",
        "print(\"Model\\t\\t\\tAccuracy\")\n",
        "print(\"Model 1\\t\\t\\t{:.4f}\".format(accuracy1))\n",
        "print(\"Model 2\\t\\t\\t{:.4f}\".format(accuracy2))\n",
        "print(\"Model 3\\t\\t\\t{:.4f}\".format(accuracy3))\n",
        "print(\"Model 4\\t\\t\\t{:.4f}\".format(accuracy4))\n",
        "print(\"Model 5\\t\\t\\t{:.4f}\".format(accuracy5))\n"
      ],
      "metadata": {
        "colab": {
          "base_uri": "https://localhost:8080/"
        },
        "id": "HAol-VrfbmPq",
        "outputId": "dad377d9-1ea3-438d-edc3-053a79852998"
      },
      "execution_count": null,
      "outputs": [
        {
          "output_type": "stream",
          "name": "stdout",
          "text": [
            "Model\t\t\tAccuracy\n",
            "Model 1\t\t\t72.7100\n",
            "Model 2\t\t\t74.6800\n",
            "Model 3\t\t\t69.2100\n",
            "Model 4\t\t\t69.7600\n",
            "Model 5\t\t\t73.0300\n"
          ]
        }
      ]
    }
  ]
}