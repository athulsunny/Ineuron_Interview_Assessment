{
  "nbformat": 4,
  "nbformat_minor": 0,
  "metadata": {
    "colab": {
      "provenance": [],
      "include_colab_link": true
    },
    "kernelspec": {
      "name": "python3",
      "display_name": "Python 3"
    },
    "language_info": {
      "name": "python"
    }
  },
  "cells": [
    {
      "cell_type": "markdown",
      "metadata": {
        "id": "view-in-github",
        "colab_type": "text"
      },
      "source": [
        "<a href=\"https://colab.research.google.com/github/athulsunny/Placement-Assignment_Athul.Sunny/blob/main/Statistics_Question_6.ipynb\" target=\"_parent\"><img src=\"https://colab.research.google.com/assets/colab-badge.svg\" alt=\"Open In Colab\"/></a>"
      ]
    },
    {
      "cell_type": "markdown",
      "source": [
        "Q6"
      ],
      "metadata": {
        "id": "i79T2iElAyTY"
      }
    },
    {
      "cell_type": "code",
      "source": [
        "import pandas as pd\n",
        "import urllib\n",
        "\n",
        "# Download the CSV file from the Google Sheets link\n",
        "url = 'https://docs.google.com/spreadsheets/d/1iLSc68B95hOgIjCANOD5ZoSJoX3KDXSJ3SEaFEuLf-M/export?format=csv'\n",
        "filename = 'blood_pressure_data.csv'\n",
        "urllib.request.urlretrieve(url, filename)\n",
        "\n",
        "# Load the dataset\n",
        "data = pd.read_csv(filename)\n",
        "\n",
        "# Extract the blood pressure change data\n",
        "bp_change = data['Blood Pressure Before (mmHg)'] - data['Blood Pressure After (mmHg)']\n",
        "\n",
        "# Perform Shapiro-Wilk test\n",
        "statistic, p_value = stats.shapiro(bp_change)\n",
        "\n",
        "# Print the results\n",
        "print(f\"Shapiro-Wilk Test:\\nStatistic: {statistic}\\np-value: {p_value}\")\n",
        "\n",
        "# Check the decision\n",
        "alpha = 0.05\n",
        "if p_value > alpha:\n",
        "    print(\"The change in blood pressure follows a normal distribution.\")\n",
        "else:\n",
        "    print(\"The change in blood pressure does not follow a normal distribution.\")\n",
        "\n"
      ],
      "metadata": {
        "colab": {
          "base_uri": "https://localhost:8080/"
        },
        "id": "RYUpLpfgt24Q",
        "outputId": "b6ad244a-47a6-4fd7-d51c-83a2d353bbe0"
      },
      "execution_count": null,
      "outputs": [
        {
          "output_type": "stream",
          "name": "stdout",
          "text": [
            "Shapiro-Wilk Test:\n",
            "Statistic: 0.9538205862045288\n",
            "p-value: 0.0014940275577828288\n",
            "The change in blood pressure does not follow a normal distribution.\n"
          ]
        }
      ]
    }
  ]
}